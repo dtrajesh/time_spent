{
 "cells": [
  {
   "cell_type": "markdown",
   "metadata": {},
   "source": [
    "# Problem Statement\n"
   ]
  },
  {
   "cell_type": "markdown",
   "metadata": {},
   "source": [
    "In this competition provided the visitor's session data, we are challenged  to come up with a regression algorithm to predict the time a buyer will spend on the platform."
   ]
  },
  {
   "cell_type": "markdown",
   "metadata": {},
   "source": [
    "Score Data : https://www.machinehack.com/hackathons/buyers_time_prediction_challenge/overview"
   ]
  },
  {
   "cell_type": "markdown",
   "metadata": {},
   "source": [
    "# Performance Mertic Used"
   ]
  },
  {
   "cell_type": "markdown",
   "metadata": {},
   "source": [
    "We are  Using the RMSLE\n"
   ]
  },
  {
   "cell_type": "markdown",
   "metadata": {},
   "source": [
    "Advantages of using RMSLE\n",
    "1) Outliers are not impacted much\n",
    "\n",
    "2) It will give more important when predicted values are less than the original values"
   ]
  },
  {
   "cell_type": "code",
   "execution_count": 1,
   "metadata": {},
   "outputs": [],
   "source": [
    "#importing required libraries\n",
    "import pandas as pd\n",
    "import numpy as np\n",
    "import seaborn as sns\n",
    "import matplotlib.pyplot as plt\n",
    "import re\n",
    "import warnings\n",
    "warnings.filterwarnings(\"ignore\")\n",
    "from wordcloud import WordCloud, STOPWORDS\n",
    "from sklearn.model_selection import train_test_split\n",
    "from sklearn.linear_model import SGDRegressor\n",
    "from sklearn.svm import SVR\n",
    "from sklearn.preprocessing import StandardScaler,MinMaxScaler,OneHotEncoder,LabelEncoder\n",
    "from sklearn.metrics import mean_squared_log_error\n",
    "from sklearn.feature_extraction.text import TfidfVectorizer\n",
    "import optuna\n",
    "from sklearn.metrics import mean_squared_log_error\n",
    "from sklearn import metrics\n",
    "from sklearn.tree import DecisionTreeRegressor\n",
    "from sklearn import tree\n",
    "from sklearn.ensemble import RandomForestRegressor,ExtraTreesRegressor\n",
    "from catboost import CatBoostRegressor\n",
    "from sklearn.neighbors import KNeighborsRegressor"
   ]
  },
  {
   "cell_type": "code",
   "execution_count": 36,
   "metadata": {
    "collapsed": true,
    "jupyter": {
     "outputs_hidden": true
    }
   },
   "outputs": [
    {
     "name": "stdout",
     "output_type": "stream",
     "text": [
      "/home/dtr/anaconda3/lib/python3.8/site-packages/secretstorage/dhcrypto.py:16: CryptographyDeprecationWarning: int_from_bytes is deprecated, use int.from_bytes instead\n",
      "  from cryptography.utils import int_from_bytes\n",
      "/home/dtr/anaconda3/lib/python3.8/site-packages/secretstorage/util.py:25: CryptographyDeprecationWarning: int_from_bytes is deprecated, use int.from_bytes instead\n",
      "  from cryptography.utils import int_from_bytes\n",
      "Collecting catboost\n",
      "  Downloading catboost-0.24.4-cp38-none-manylinux1_x86_64.whl (65.7 MB)\n",
      "\u001b[K     |████████████████████████████████| 65.7 MB 54 kB/s  eta 0:00:01     |██████████████████████████▋     | 54.7 MB 2.1 MB/s eta 0:00:06     |█████████████████████████████▍  | 60.3 MB 1.3 MB/s eta 0:00:05\n",
      "\u001b[?25hRequirement already satisfied: numpy>=1.16.0 in ./anaconda3/lib/python3.8/site-packages (from catboost) (1.18.5)\n",
      "Requirement already satisfied: scipy in ./anaconda3/lib/python3.8/site-packages (from catboost) (1.5.0)\n",
      "Requirement already satisfied: pandas>=0.24.0 in ./anaconda3/lib/python3.8/site-packages (from catboost) (1.0.5)\n",
      "Collecting graphviz\n",
      "  Downloading graphviz-0.16-py2.py3-none-any.whl (19 kB)\n",
      "Requirement already satisfied: six in ./anaconda3/lib/python3.8/site-packages (from catboost) (1.15.0)\n",
      "Collecting plotly\n",
      "  Downloading plotly-4.14.3-py2.py3-none-any.whl (13.2 MB)\n",
      "\u001b[K     |████████████████████████████████| 13.2 MB 1.6 MB/s eta 0:00:01     |████████████████████████▎       | 10.0 MB 462 kB/s eta 0:00:07\n",
      "\u001b[?25hRequirement already satisfied: matplotlib in ./anaconda3/lib/python3.8/site-packages (from catboost) (3.2.2)\n",
      "Requirement already satisfied: python-dateutil>=2.6.1 in ./anaconda3/lib/python3.8/site-packages (from pandas>=0.24.0->catboost) (2.8.1)\n",
      "Requirement already satisfied: pytz>=2017.2 in ./anaconda3/lib/python3.8/site-packages (from pandas>=0.24.0->catboost) (2020.1)\n",
      "Collecting retrying>=1.3.3\n",
      "  Downloading retrying-1.3.3.tar.gz (10 kB)\n",
      "Requirement already satisfied: pyparsing!=2.0.4,!=2.1.2,!=2.1.6,>=2.0.1 in ./anaconda3/lib/python3.8/site-packages (from matplotlib->catboost) (2.4.7)\n",
      "Requirement already satisfied: kiwisolver>=1.0.1 in ./anaconda3/lib/python3.8/site-packages (from matplotlib->catboost) (1.2.0)\n",
      "Requirement already satisfied: cycler>=0.10 in ./anaconda3/lib/python3.8/site-packages (from matplotlib->catboost) (0.10.0)\n",
      "Building wheels for collected packages: retrying\n",
      "  Building wheel for retrying (setup.py) ... \u001b[?25ldone\n",
      "\u001b[?25h  Created wheel for retrying: filename=retrying-1.3.3-py3-none-any.whl size=11429 sha256=d1abdbc82db5c259baaafe868e645c34b0791645a8a71953a1c85ad18e879e6d\n",
      "  Stored in directory: /home/dtr/.cache/pip/wheels/c4/a7/48/0a434133f6d56e878ca511c0e6c38326907c0792f67b476e56\n",
      "Successfully built retrying\n",
      "Installing collected packages: graphviz, retrying, plotly, catboost\n",
      "Successfully installed catboost-0.24.4 graphviz-0.16 plotly-4.14.3 retrying-1.3.3\n",
      "Note: you may need to restart the kernel to use updated packages.\n"
     ]
    }
   ],
   "source": [
    "pip install catboost"
   ]
  },
  {
   "cell_type": "code",
   "execution_count": 2,
   "metadata": {},
   "outputs": [
    {
     "name": "stdout",
     "output_type": "stream",
     "text": [
      "Numbers of rows 5429\n",
      "Number of Features 9\n",
      "columns ['session_id' 'session_number' 'client_agent' 'device_details' 'date'\n",
      " 'purchased' 'added_in_cart' 'checked_out' 'time_spent']\n",
      "                         session_id  session_number  \\\n",
      "0  57f879e70d3c5fc2a98102d64c9fd84e             715   \n",
      "1  a5442b0c7c33d0a811e7661e556b2de8              55   \n",
      "2  305cb1486ed8610c00b37007926cb2c4              11   \n",
      "3  f2c1ecc9993f0071df91ba178450498c            2794   \n",
      "4  e460830ae295e55d2216ebdc761ab9a6            3674   \n",
      "5  b4ae55a4553d43697dcf64b66033677b             550   \n",
      "\n",
      "                                        client_agent           device_details  \\\n",
      "0  Mozilla/5.0 (Windows NT 6.1; WOW64) AppleWebKi...         Desktop - Chrome   \n",
      "1                           Product/8.0 iPhone/8.1.3             iPhone - iOS   \n",
      "2  Mozilla/5.0 (iPhone; CPU iPhone OS 7_1_2 like ...       iPhone - MobileWeb   \n",
      "3  Mozilla/5.0 (compatible; MSIE 9.0; Windows NT ...             Desktop - IE   \n",
      "4  Mozilla/5.0 (iPhone; CPU iPhone OS 7_1_1 like ...             iPhone - Web   \n",
      "5  Product/160402 Android/5.0 Device/LGE_LG-D855 ...  Android Phone - Android   \n",
      "\n",
      "         date  purchased  added_in_cart  checked_out  time_spent  \n",
      "0  2020-01-22          1              0            0     236.886  \n",
      "1  2020-02-27          1              0            0    1277.455  \n",
      "2  2019-08-01          0              0            0      21.704  \n",
      "3  2019-12-30          0              1            0     455.201  \n",
      "4  2019-09-10          0              0            0    1164.877  \n",
      "5  2020-02-06          0              1            0    6010.343  \n"
     ]
    }
   ],
   "source": [
    "#reading the dataset \n",
    "train=pd.read_csv(\"time_spent/Train.csv\")\n",
    "print('Numbers of rows',train.shape[0])\n",
    "print('Number of Features',train.shape[1])\n",
    "print('columns',train.columns.values)\n",
    "print(train.head(6))\n"
   ]
  },
  {
   "cell_type": "markdown",
   "metadata": {},
   "source": [
    "# Preparing the data"
   ]
  },
  {
   "cell_type": "code",
   "execution_count": 3,
   "metadata": {},
   "outputs": [
    {
     "name": "stdout",
     "output_type": "stream",
     "text": [
      "<class 'pandas.core.frame.DataFrame'>\n",
      "RangeIndex: 5429 entries, 0 to 5428\n",
      "Data columns (total 9 columns):\n",
      " #   Column          Non-Null Count  Dtype  \n",
      "---  ------          --------------  -----  \n",
      " 0   session_id      5429 non-null   object \n",
      " 1   session_number  5429 non-null   int64  \n",
      " 2   client_agent    5269 non-null   object \n",
      " 3   device_details  5429 non-null   object \n",
      " 4   date            5429 non-null   object \n",
      " 5   purchased       5429 non-null   int64  \n",
      " 6   added_in_cart   5429 non-null   int64  \n",
      " 7   checked_out     5429 non-null   int64  \n",
      " 8   time_spent      5429 non-null   float64\n",
      "dtypes: float64(1), int64(4), object(4)\n",
      "memory usage: 381.9+ KB\n"
     ]
    }
   ],
   "source": [
    "# Checking for null values\n",
    "train.info()\n"
   ]
  },
  {
   "cell_type": "markdown",
   "metadata": {},
   "source": [
    "There are null values in the Client_agent column"
   ]
  },
  {
   "cell_type": "code",
   "execution_count": 10,
   "metadata": {},
   "outputs": [
    {
     "data": {
      "text/html": [
       "<div>\n",
       "<style scoped>\n",
       "    .dataframe tbody tr th:only-of-type {\n",
       "        vertical-align: middle;\n",
       "    }\n",
       "\n",
       "    .dataframe tbody tr th {\n",
       "        vertical-align: top;\n",
       "    }\n",
       "\n",
       "    .dataframe thead th {\n",
       "        text-align: right;\n",
       "    }\n",
       "</style>\n",
       "<table border=\"1\" class=\"dataframe\">\n",
       "  <thead>\n",
       "    <tr style=\"text-align: right;\">\n",
       "      <th></th>\n",
       "      <th>session_id</th>\n",
       "      <th>session_number</th>\n",
       "      <th>client_agent</th>\n",
       "      <th>device_details</th>\n",
       "      <th>date</th>\n",
       "      <th>purchased</th>\n",
       "      <th>added_in_cart</th>\n",
       "      <th>checked_out</th>\n",
       "      <th>time_spent</th>\n",
       "    </tr>\n",
       "  </thead>\n",
       "  <tbody>\n",
       "  </tbody>\n",
       "</table>\n",
       "</div>"
      ],
      "text/plain": [
       "Empty DataFrame\n",
       "Columns: [session_id, session_number, client_agent, device_details, date, purchased, added_in_cart, checked_out, time_spent]\n",
       "Index: []"
      ]
     },
     "execution_count": 10,
     "metadata": {},
     "output_type": "execute_result"
    }
   ],
   "source": [
    "#printing the rows containing the null values\n",
    "train[train.isnull().any(axis=1)]"
   ]
  },
  {
   "cell_type": "code",
   "execution_count": 3,
   "metadata": {},
   "outputs": [],
   "source": [
    "#creating a function to clean the Columns client_agent and device_details\n",
    "def clean(total_text,index,column,df):\n",
    "    if type(total_text) is not int:\n",
    "        total_text = re.sub('[^a-zA-Z\\n]', ' ', total_text) # replacing the special char to space\n",
    "        total_text=re.sub('\\s+',\" \",total_text)# replacing the multiple spaces with single space\n",
    "        total_text=re.sub('html',\" \",total_text)\n",
    "        total_text=total_text.lower() #repalcing all char to lower\n",
    "        df[column][index]=total_text\n",
    "        \n",
    "        \n",
    "        \n",
    "    "
   ]
  },
  {
   "cell_type": "code",
   "execution_count": 4,
   "metadata": {},
   "outputs": [
    {
     "data": {
      "text/html": [
       "<div>\n",
       "<style scoped>\n",
       "    .dataframe tbody tr th:only-of-type {\n",
       "        vertical-align: middle;\n",
       "    }\n",
       "\n",
       "    .dataframe tbody tr th {\n",
       "        vertical-align: top;\n",
       "    }\n",
       "\n",
       "    .dataframe thead th {\n",
       "        text-align: right;\n",
       "    }\n",
       "</style>\n",
       "<table border=\"1\" class=\"dataframe\">\n",
       "  <thead>\n",
       "    <tr style=\"text-align: right;\">\n",
       "      <th></th>\n",
       "      <th>session_id</th>\n",
       "      <th>session_number</th>\n",
       "      <th>client_agent</th>\n",
       "      <th>device_details</th>\n",
       "      <th>date</th>\n",
       "      <th>purchased</th>\n",
       "      <th>added_in_cart</th>\n",
       "      <th>checked_out</th>\n",
       "      <th>time_spent</th>\n",
       "    </tr>\n",
       "  </thead>\n",
       "  <tbody>\n",
       "    <tr>\n",
       "      <th>0</th>\n",
       "      <td>57f879e70d3c5fc2a98102d64c9fd84e</td>\n",
       "      <td>715</td>\n",
       "      <td>mozilla windows nt wow applewebkit khtml like ...</td>\n",
       "      <td>Desktop - Chrome</td>\n",
       "      <td>2020-01-22</td>\n",
       "      <td>1</td>\n",
       "      <td>0</td>\n",
       "      <td>0</td>\n",
       "      <td>236.886</td>\n",
       "    </tr>\n",
       "    <tr>\n",
       "      <th>1</th>\n",
       "      <td>a5442b0c7c33d0a811e7661e556b2de8</td>\n",
       "      <td>55</td>\n",
       "      <td>product iphone</td>\n",
       "      <td>iPhone - iOS</td>\n",
       "      <td>2020-02-27</td>\n",
       "      <td>1</td>\n",
       "      <td>0</td>\n",
       "      <td>0</td>\n",
       "      <td>1277.455</td>\n",
       "    </tr>\n",
       "    <tr>\n",
       "      <th>2</th>\n",
       "      <td>305cb1486ed8610c00b37007926cb2c4</td>\n",
       "      <td>11</td>\n",
       "      <td>mozilla iphone cpu iphone os like mac os x app...</td>\n",
       "      <td>iPhone - MobileWeb</td>\n",
       "      <td>2019-08-01</td>\n",
       "      <td>0</td>\n",
       "      <td>0</td>\n",
       "      <td>0</td>\n",
       "      <td>21.704</td>\n",
       "    </tr>\n",
       "  </tbody>\n",
       "</table>\n",
       "</div>"
      ],
      "text/plain": [
       "                         session_id  session_number  \\\n",
       "0  57f879e70d3c5fc2a98102d64c9fd84e             715   \n",
       "1  a5442b0c7c33d0a811e7661e556b2de8              55   \n",
       "2  305cb1486ed8610c00b37007926cb2c4              11   \n",
       "\n",
       "                                        client_agent      device_details  \\\n",
       "0  mozilla windows nt wow applewebkit khtml like ...    Desktop - Chrome   \n",
       "1                                    product iphone         iPhone - iOS   \n",
       "2  mozilla iphone cpu iphone os like mac os x app...  iPhone - MobileWeb   \n",
       "\n",
       "         date  purchased  added_in_cart  checked_out  time_spent  \n",
       "0  2020-01-22          1              0            0     236.886  \n",
       "1  2020-02-27          1              0            0    1277.455  \n",
       "2  2019-08-01          0              0            0      21.704  "
      ]
     },
     "execution_count": 4,
     "metadata": {},
     "output_type": "execute_result"
    }
   ],
   "source": [
    "#Cleaning the client_agent column\n",
    "for i,j in train.iterrows():\n",
    "    if j[\"client_agent\"] is not  np.nan:\n",
    "        clean(j[\"client_agent\"],i,\"client_agent\",train)\n",
    "train.head(3)"
   ]
  },
  {
   "cell_type": "code",
   "execution_count": 5,
   "metadata": {},
   "outputs": [
    {
     "data": {
      "text/html": [
       "<div>\n",
       "<style scoped>\n",
       "    .dataframe tbody tr th:only-of-type {\n",
       "        vertical-align: middle;\n",
       "    }\n",
       "\n",
       "    .dataframe tbody tr th {\n",
       "        vertical-align: top;\n",
       "    }\n",
       "\n",
       "    .dataframe thead th {\n",
       "        text-align: right;\n",
       "    }\n",
       "</style>\n",
       "<table border=\"1\" class=\"dataframe\">\n",
       "  <thead>\n",
       "    <tr style=\"text-align: right;\">\n",
       "      <th></th>\n",
       "      <th>session_id</th>\n",
       "      <th>session_number</th>\n",
       "      <th>client_agent</th>\n",
       "      <th>device_details</th>\n",
       "      <th>date</th>\n",
       "      <th>purchased</th>\n",
       "      <th>added_in_cart</th>\n",
       "      <th>checked_out</th>\n",
       "      <th>time_spent</th>\n",
       "    </tr>\n",
       "  </thead>\n",
       "  <tbody>\n",
       "    <tr>\n",
       "      <th>0</th>\n",
       "      <td>57f879e70d3c5fc2a98102d64c9fd84e</td>\n",
       "      <td>715</td>\n",
       "      <td>mozilla windows nt wow applewebkit khtml like ...</td>\n",
       "      <td>desktop chrome</td>\n",
       "      <td>2020-01-22</td>\n",
       "      <td>1</td>\n",
       "      <td>0</td>\n",
       "      <td>0</td>\n",
       "      <td>236.886</td>\n",
       "    </tr>\n",
       "    <tr>\n",
       "      <th>1</th>\n",
       "      <td>a5442b0c7c33d0a811e7661e556b2de8</td>\n",
       "      <td>55</td>\n",
       "      <td>product iphone</td>\n",
       "      <td>iphone ios</td>\n",
       "      <td>2020-02-27</td>\n",
       "      <td>1</td>\n",
       "      <td>0</td>\n",
       "      <td>0</td>\n",
       "      <td>1277.455</td>\n",
       "    </tr>\n",
       "    <tr>\n",
       "      <th>2</th>\n",
       "      <td>305cb1486ed8610c00b37007926cb2c4</td>\n",
       "      <td>11</td>\n",
       "      <td>mozilla iphone cpu iphone os like mac os x app...</td>\n",
       "      <td>iphone mobileweb</td>\n",
       "      <td>2019-08-01</td>\n",
       "      <td>0</td>\n",
       "      <td>0</td>\n",
       "      <td>0</td>\n",
       "      <td>21.704</td>\n",
       "    </tr>\n",
       "  </tbody>\n",
       "</table>\n",
       "</div>"
      ],
      "text/plain": [
       "                         session_id  session_number  \\\n",
       "0  57f879e70d3c5fc2a98102d64c9fd84e             715   \n",
       "1  a5442b0c7c33d0a811e7661e556b2de8              55   \n",
       "2  305cb1486ed8610c00b37007926cb2c4              11   \n",
       "\n",
       "                                        client_agent    device_details  \\\n",
       "0  mozilla windows nt wow applewebkit khtml like ...    desktop chrome   \n",
       "1                                    product iphone         iphone ios   \n",
       "2  mozilla iphone cpu iphone os like mac os x app...  iphone mobileweb   \n",
       "\n",
       "         date  purchased  added_in_cart  checked_out  time_spent  \n",
       "0  2020-01-22          1              0            0     236.886  \n",
       "1  2020-02-27          1              0            0    1277.455  \n",
       "2  2019-08-01          0              0            0      21.704  "
      ]
     },
     "execution_count": 5,
     "metadata": {},
     "output_type": "execute_result"
    }
   ],
   "source": [
    "#Cleaning the  device_details column\n",
    "for i,j in train.iterrows():\n",
    "    if j[\"device_details\"] is not  np.nan:\n",
    "        clean(j[\"device_details\"],i,\"device_details\",train)\n",
    "train.head(3)"
   ]
  },
  {
   "cell_type": "code",
   "execution_count": 51,
   "metadata": {},
   "outputs": [
    {
     "data": {
      "text/plain": [
       "product cfnetwork darwin                                                                   57\n",
       "typhoeus https github com typhoeus typhoeus                                                26\n",
       " unknown                                                                                    6\n",
       "opera macintosh intel mac os x presto version                                               6\n",
       "mozilla x linux x applewebkit khtml like gecko chrome safari                                5\n",
       "product android                                                                             2\n",
       "mozilla macintosh intel mac os x applewebkit khtml like gecko                               2\n",
       "safari cfnetwork darwin i macbookpro c                                                      1\n",
       "mozilla x linux i x applewebkit khtml like gecko chrome safari                              1\n",
       "mozilla x cros armv l applewebkit khtml like gecko chrome safari                            1\n",
       "dalvik linux u android lg d build lrx r a                                                   1\n",
       "mozilla linux android bn nookhd build ktu q applewebkit khtml like gecko chrome safari      1\n",
       "Name: client_agent, dtype: int64"
      ]
     },
     "execution_count": 51,
     "metadata": {},
     "output_type": "execute_result"
    }
   ],
   "source": [
    "# Doing some analysis to fill null values\n",
    "train[(train[\"device_details\"]=='other other') & (train[\"client_agent\"].notnull())][\"client_agent\"].value_counts()"
   ]
  },
  {
   "cell_type": "markdown",
   "metadata": {},
   "source": [
    "As we see \"product cfnetwork darwin\" is most used \"client_agent\" for \"device_details\" \"Other Other\" so we will replace null values in the \"other other\" \"device_details\" with \"product cfnetwork darwin\""
   ]
  },
  {
   "cell_type": "code",
   "execution_count": 6,
   "metadata": {},
   "outputs": [],
   "source": [
    "#replacing the null values in the \"device_details\"\n",
    "train['client_agent'].mask((train['device_details'] == 'other other') & (train[\"client_agent\"].isnull()), 'product cfnetwork darwin', inplace=True)"
   ]
  },
  {
   "cell_type": "code",
   "execution_count": 56,
   "metadata": {},
   "outputs": [
    {
     "data": {
      "text/html": [
       "<div>\n",
       "<style scoped>\n",
       "    .dataframe tbody tr th:only-of-type {\n",
       "        vertical-align: middle;\n",
       "    }\n",
       "\n",
       "    .dataframe tbody tr th {\n",
       "        vertical-align: top;\n",
       "    }\n",
       "\n",
       "    .dataframe thead th {\n",
       "        text-align: right;\n",
       "    }\n",
       "</style>\n",
       "<table border=\"1\" class=\"dataframe\">\n",
       "  <thead>\n",
       "    <tr style=\"text-align: right;\">\n",
       "      <th></th>\n",
       "      <th>session_id</th>\n",
       "      <th>session_number</th>\n",
       "      <th>client_agent</th>\n",
       "      <th>device_details</th>\n",
       "      <th>date</th>\n",
       "      <th>purchased</th>\n",
       "      <th>added_in_cart</th>\n",
       "      <th>checked_out</th>\n",
       "      <th>time_spent</th>\n",
       "    </tr>\n",
       "  </thead>\n",
       "  <tbody>\n",
       "    <tr>\n",
       "      <th>19</th>\n",
       "      <td>ffd9783163e22452b6b8c36205310ff9</td>\n",
       "      <td>506</td>\n",
       "      <td>product cfnetwork darwin</td>\n",
       "      <td>other other</td>\n",
       "      <td>2019-09-01</td>\n",
       "      <td>0</td>\n",
       "      <td>0</td>\n",
       "      <td>0</td>\n",
       "      <td>21.452</td>\n",
       "    </tr>\n",
       "  </tbody>\n",
       "</table>\n",
       "</div>"
      ],
      "text/plain": [
       "                          session_id  session_number  \\\n",
       "19  ffd9783163e22452b6b8c36205310ff9             506   \n",
       "\n",
       "                client_agent device_details        date  purchased  \\\n",
       "19  product cfnetwork darwin    other other  2019-09-01          0   \n",
       "\n",
       "    added_in_cart  checked_out  time_spent  \n",
       "19              0            0      21.452  "
      ]
     },
     "execution_count": 56,
     "metadata": {},
     "output_type": "execute_result"
    }
   ],
   "source": [
    "train[(train[\"session_number\"]==506) & (train[\"device_details\"]==\"other other\")]"
   ]
  },
  {
   "cell_type": "code",
   "execution_count": 7,
   "metadata": {},
   "outputs": [
    {
     "data": {
      "text/plain": [
       "mozilla linux android bn nookhd build ktu q applewebkit khtml like gecko chrome safari     3\n",
       "Name: client_agent, dtype: int64"
      ]
     },
     "execution_count": 7,
     "metadata": {},
     "output_type": "execute_result"
    }
   ],
   "source": [
    "# Doing some analysis to fill null values \n",
    "train[(train[\"device_details\"]=='unknown mobileweb') & (train[\"client_agent\"].notnull())][\"client_agent\"].value_counts()"
   ]
  },
  {
   "cell_type": "markdown",
   "metadata": {},
   "source": [
    "As we see \"mozilla linux android bn nookhd build ktu q applewebkit khtml like gecko chrome safari\" is most used \"client_agent\" for \"device_details\" \"unknown mobileweb\" so we will replace null values in the \"unknown mobileweb\" \"device_details\" with \"mozilla linux android bn nookhd build ktu q applewebkit khtml like gecko chrome safari\""
   ]
  },
  {
   "cell_type": "code",
   "execution_count": 7,
   "metadata": {},
   "outputs": [],
   "source": [
    "#replacing the null values in the \"device_details\"\n",
    "train['client_agent'].mask((train['device_details'] == 'unknown mobileweb') & (train[\"client_agent\"].isnull()), 'mozilla linux android bn nookhd build ktu q applewebkit khtml like gecko chrome safari', inplace=True)"
   ]
  },
  {
   "cell_type": "code",
   "execution_count": 9,
   "metadata": {},
   "outputs": [
    {
     "data": {
      "text/html": [
       "<div>\n",
       "<style scoped>\n",
       "    .dataframe tbody tr th:only-of-type {\n",
       "        vertical-align: middle;\n",
       "    }\n",
       "\n",
       "    .dataframe tbody tr th {\n",
       "        vertical-align: top;\n",
       "    }\n",
       "\n",
       "    .dataframe thead th {\n",
       "        text-align: right;\n",
       "    }\n",
       "</style>\n",
       "<table border=\"1\" class=\"dataframe\">\n",
       "  <thead>\n",
       "    <tr style=\"text-align: right;\">\n",
       "      <th></th>\n",
       "      <th>session_id</th>\n",
       "      <th>session_number</th>\n",
       "      <th>client_agent</th>\n",
       "      <th>device_details</th>\n",
       "      <th>date</th>\n",
       "      <th>purchased</th>\n",
       "      <th>added_in_cart</th>\n",
       "      <th>checked_out</th>\n",
       "      <th>time_spent</th>\n",
       "    </tr>\n",
       "  </thead>\n",
       "  <tbody>\n",
       "    <tr>\n",
       "      <th>5319</th>\n",
       "      <td>9c5b7ca33cb906de66a9dba709008f94</td>\n",
       "      <td>693</td>\n",
       "      <td>mozilla linux android bn nookhd build ktu q ap...</td>\n",
       "      <td>unknown mobileweb</td>\n",
       "      <td>2019-07-19</td>\n",
       "      <td>0</td>\n",
       "      <td>0</td>\n",
       "      <td>0</td>\n",
       "      <td>18.568</td>\n",
       "    </tr>\n",
       "  </tbody>\n",
       "</table>\n",
       "</div>"
      ],
      "text/plain": [
       "                            session_id  session_number  \\\n",
       "5319  9c5b7ca33cb906de66a9dba709008f94             693   \n",
       "\n",
       "                                           client_agent     device_details  \\\n",
       "5319  mozilla linux android bn nookhd build ktu q ap...  unknown mobileweb   \n",
       "\n",
       "            date  purchased  added_in_cart  checked_out  time_spent  \n",
       "5319  2019-07-19          0              0            0      18.568  "
      ]
     },
     "execution_count": 9,
     "metadata": {},
     "output_type": "execute_result"
    }
   ],
   "source": [
    "train[(train[\"session_number\"]==693) & (train[\"device_details\"]=='unknown mobileweb')]"
   ]
  },
  {
   "cell_type": "code",
   "execution_count": 8,
   "metadata": {},
   "outputs": [
    {
     "data": {
      "text/html": [
       "<div>\n",
       "<style scoped>\n",
       "    .dataframe tbody tr th:only-of-type {\n",
       "        vertical-align: middle;\n",
       "    }\n",
       "\n",
       "    .dataframe tbody tr th {\n",
       "        vertical-align: top;\n",
       "    }\n",
       "\n",
       "    .dataframe thead th {\n",
       "        text-align: right;\n",
       "    }\n",
       "</style>\n",
       "<table border=\"1\" class=\"dataframe\">\n",
       "  <thead>\n",
       "    <tr style=\"text-align: right;\">\n",
       "      <th></th>\n",
       "      <th>session_id</th>\n",
       "      <th>session_number</th>\n",
       "      <th>client_agent</th>\n",
       "      <th>device_details</th>\n",
       "      <th>date</th>\n",
       "      <th>purchased</th>\n",
       "      <th>added_in_cart</th>\n",
       "      <th>checked_out</th>\n",
       "      <th>time_spent</th>\n",
       "      <th>year</th>\n",
       "      <th>month</th>\n",
       "      <th>day</th>\n",
       "    </tr>\n",
       "  </thead>\n",
       "  <tbody>\n",
       "    <tr>\n",
       "      <th>0</th>\n",
       "      <td>57f879e70d3c5fc2a98102d64c9fd84e</td>\n",
       "      <td>715</td>\n",
       "      <td>mozilla windows nt wow applewebkit khtml like ...</td>\n",
       "      <td>desktop chrome</td>\n",
       "      <td>2020-01-22</td>\n",
       "      <td>1</td>\n",
       "      <td>0</td>\n",
       "      <td>0</td>\n",
       "      <td>236.886</td>\n",
       "      <td>2020</td>\n",
       "      <td>1</td>\n",
       "      <td>22</td>\n",
       "    </tr>\n",
       "    <tr>\n",
       "      <th>1</th>\n",
       "      <td>a5442b0c7c33d0a811e7661e556b2de8</td>\n",
       "      <td>55</td>\n",
       "      <td>product iphone</td>\n",
       "      <td>iphone ios</td>\n",
       "      <td>2020-02-27</td>\n",
       "      <td>1</td>\n",
       "      <td>0</td>\n",
       "      <td>0</td>\n",
       "      <td>1277.455</td>\n",
       "      <td>2020</td>\n",
       "      <td>2</td>\n",
       "      <td>27</td>\n",
       "    </tr>\n",
       "    <tr>\n",
       "      <th>2</th>\n",
       "      <td>305cb1486ed8610c00b37007926cb2c4</td>\n",
       "      <td>11</td>\n",
       "      <td>mozilla iphone cpu iphone os like mac os x app...</td>\n",
       "      <td>iphone mobileweb</td>\n",
       "      <td>2019-08-01</td>\n",
       "      <td>0</td>\n",
       "      <td>0</td>\n",
       "      <td>0</td>\n",
       "      <td>21.704</td>\n",
       "      <td>2019</td>\n",
       "      <td>8</td>\n",
       "      <td>1</td>\n",
       "    </tr>\n",
       "    <tr>\n",
       "      <th>3</th>\n",
       "      <td>f2c1ecc9993f0071df91ba178450498c</td>\n",
       "      <td>2794</td>\n",
       "      <td>mozilla compatible msie windows nt wow trident</td>\n",
       "      <td>desktop ie</td>\n",
       "      <td>2019-12-30</td>\n",
       "      <td>0</td>\n",
       "      <td>1</td>\n",
       "      <td>0</td>\n",
       "      <td>455.201</td>\n",
       "      <td>2019</td>\n",
       "      <td>12</td>\n",
       "      <td>30</td>\n",
       "    </tr>\n",
       "    <tr>\n",
       "      <th>4</th>\n",
       "      <td>e460830ae295e55d2216ebdc761ab9a6</td>\n",
       "      <td>3674</td>\n",
       "      <td>mozilla iphone cpu iphone os like mac os x app...</td>\n",
       "      <td>iphone web</td>\n",
       "      <td>2019-09-10</td>\n",
       "      <td>0</td>\n",
       "      <td>0</td>\n",
       "      <td>0</td>\n",
       "      <td>1164.877</td>\n",
       "      <td>2019</td>\n",
       "      <td>9</td>\n",
       "      <td>10</td>\n",
       "    </tr>\n",
       "    <tr>\n",
       "      <th>5</th>\n",
       "      <td>b4ae55a4553d43697dcf64b66033677b</td>\n",
       "      <td>550</td>\n",
       "      <td>product android device lge lg d carrier yes op...</td>\n",
       "      <td>android phone android</td>\n",
       "      <td>2020-02-06</td>\n",
       "      <td>0</td>\n",
       "      <td>1</td>\n",
       "      <td>0</td>\n",
       "      <td>6010.343</td>\n",
       "      <td>2020</td>\n",
       "      <td>2</td>\n",
       "      <td>6</td>\n",
       "    </tr>\n",
       "    <tr>\n",
       "      <th>6</th>\n",
       "      <td>a17491477ea11e951286f583b3095899</td>\n",
       "      <td>198</td>\n",
       "      <td>mozilla windows nt wow rv gecko firefox</td>\n",
       "      <td>desktop firefox</td>\n",
       "      <td>2019-05-30</td>\n",
       "      <td>1</td>\n",
       "      <td>1</td>\n",
       "      <td>1</td>\n",
       "      <td>8471.435</td>\n",
       "      <td>2019</td>\n",
       "      <td>5</td>\n",
       "      <td>30</td>\n",
       "    </tr>\n",
       "    <tr>\n",
       "      <th>7</th>\n",
       "      <td>939dfd89beacc36f5f8acd5bfa062b57</td>\n",
       "      <td>2915</td>\n",
       "      <td>mozilla windows nt wow trident touch rv like g...</td>\n",
       "      <td>android tablet web</td>\n",
       "      <td>2020-01-03</td>\n",
       "      <td>0</td>\n",
       "      <td>0</td>\n",
       "      <td>0</td>\n",
       "      <td>83.030</td>\n",
       "      <td>2020</td>\n",
       "      <td>1</td>\n",
       "      <td>3</td>\n",
       "    </tr>\n",
       "    <tr>\n",
       "      <th>8</th>\n",
       "      <td>1334aaff26b65ec26dc1e539c0ed20cb</td>\n",
       "      <td>319</td>\n",
       "      <td>product iphone</td>\n",
       "      <td>iphone ios</td>\n",
       "      <td>2019-10-19</td>\n",
       "      <td>0</td>\n",
       "      <td>0</td>\n",
       "      <td>0</td>\n",
       "      <td>97.722</td>\n",
       "      <td>2019</td>\n",
       "      <td>10</td>\n",
       "      <td>19</td>\n",
       "    </tr>\n",
       "    <tr>\n",
       "      <th>9</th>\n",
       "      <td>750d0bfd2fb9ba1628586bb98c1611ca</td>\n",
       "      <td>2574</td>\n",
       "      <td>mozilla windows nt wow applewebkit khtml like ...</td>\n",
       "      <td>desktop chrome</td>\n",
       "      <td>2020-03-04</td>\n",
       "      <td>0</td>\n",
       "      <td>1</td>\n",
       "      <td>0</td>\n",
       "      <td>44.841</td>\n",
       "      <td>2020</td>\n",
       "      <td>3</td>\n",
       "      <td>4</td>\n",
       "    </tr>\n",
       "  </tbody>\n",
       "</table>\n",
       "</div>"
      ],
      "text/plain": [
       "                         session_id  session_number  \\\n",
       "0  57f879e70d3c5fc2a98102d64c9fd84e             715   \n",
       "1  a5442b0c7c33d0a811e7661e556b2de8              55   \n",
       "2  305cb1486ed8610c00b37007926cb2c4              11   \n",
       "3  f2c1ecc9993f0071df91ba178450498c            2794   \n",
       "4  e460830ae295e55d2216ebdc761ab9a6            3674   \n",
       "5  b4ae55a4553d43697dcf64b66033677b             550   \n",
       "6  a17491477ea11e951286f583b3095899             198   \n",
       "7  939dfd89beacc36f5f8acd5bfa062b57            2915   \n",
       "8  1334aaff26b65ec26dc1e539c0ed20cb             319   \n",
       "9  750d0bfd2fb9ba1628586bb98c1611ca            2574   \n",
       "\n",
       "                                        client_agent         device_details  \\\n",
       "0  mozilla windows nt wow applewebkit khtml like ...         desktop chrome   \n",
       "1                                    product iphone              iphone ios   \n",
       "2  mozilla iphone cpu iphone os like mac os x app...       iphone mobileweb   \n",
       "3    mozilla compatible msie windows nt wow trident              desktop ie   \n",
       "4  mozilla iphone cpu iphone os like mac os x app...             iphone web   \n",
       "5  product android device lge lg d carrier yes op...  android phone android   \n",
       "6           mozilla windows nt wow rv gecko firefox         desktop firefox   \n",
       "7  mozilla windows nt wow trident touch rv like g...     android tablet web   \n",
       "8                                    product iphone              iphone ios   \n",
       "9  mozilla windows nt wow applewebkit khtml like ...         desktop chrome   \n",
       "\n",
       "        date  purchased  added_in_cart  checked_out  time_spent  year  month  \\\n",
       "0 2020-01-22          1              0            0     236.886  2020      1   \n",
       "1 2020-02-27          1              0            0    1277.455  2020      2   \n",
       "2 2019-08-01          0              0            0      21.704  2019      8   \n",
       "3 2019-12-30          0              1            0     455.201  2019     12   \n",
       "4 2019-09-10          0              0            0    1164.877  2019      9   \n",
       "5 2020-02-06          0              1            0    6010.343  2020      2   \n",
       "6 2019-05-30          1              1            1    8471.435  2019      5   \n",
       "7 2020-01-03          0              0            0      83.030  2020      1   \n",
       "8 2019-10-19          0              0            0      97.722  2019     10   \n",
       "9 2020-03-04          0              1            0      44.841  2020      3   \n",
       "\n",
       "   day  \n",
       "0   22  \n",
       "1   27  \n",
       "2    1  \n",
       "3   30  \n",
       "4   10  \n",
       "5    6  \n",
       "6   30  \n",
       "7    3  \n",
       "8   19  \n",
       "9    4  "
      ]
     },
     "execution_count": 8,
     "metadata": {},
     "output_type": "execute_result"
    }
   ],
   "source": [
    "# Creating the Function to Date,Year,Month from date column\n",
    "def date(data):    \n",
    "    data[\"date\"] = pd.to_datetime(data.date)\n",
    "    data['year'] = data['date'].dt.year\n",
    "    data['month'] = data['date'].dt.month\n",
    "    data['day'] = data['date'].dt.day\n",
    "date(train)\n",
    "train.head(10)"
   ]
  },
  {
   "cell_type": "markdown",
   "metadata": {},
   "source": [
    "# Univariate analysis"
   ]
  },
  {
   "cell_type": "code",
   "execution_count": 14,
   "metadata": {},
   "outputs": [
    {
     "data": {
      "text/plain": [
       "<matplotlib.axes._subplots.AxesSubplot at 0x7ff895b568b0>"
      ]
     },
     "execution_count": 14,
     "metadata": {},
     "output_type": "execute_result"
    },
    {
     "data": {
      "image/png": "[encoded data removed]",
      "text/plain": [
       "<Figure size 432x288 with 1 Axes>"
      ]
     },
     "metadata": {
      "needs_background": "light"
     },
     "output_type": "display_data"
    }
   ],
   "source": [
    "#session number\n",
    "sns.distplot(train['session_number'], hist=True, kde=True)"
   ]
  },
  {
   "cell_type": "markdown",
   "metadata": {},
   "source": [
    "Right skewed data"
   ]
  },
  {
   "cell_type": "code",
   "execution_count": 19,
   "metadata": {},
   "outputs": [
    {
     "data": {
      "text/plain": [
       "<matplotlib.axes._subplots.AxesSubplot at 0x7ff893832b50>"
      ]
     },
     "execution_count": 19,
     "metadata": {},
     "output_type": "execute_result"
    },
    {
     "data": {
      "image/png": "[encoded data removed]",
      "text/plain": [
       "<Figure size 432x288 with 1 Axes>"
      ]
     },
     "metadata": {
      "needs_background": "light"
     },
     "output_type": "display_data"
    }
   ],
   "source": [
    "#time_spent\n",
    "sns.distplot(train['time_spent'], hist=True, kde=True)"
   ]
  },
  {
   "cell_type": "code",
   "execution_count": 15,
   "metadata": {},
   "outputs": [
    {
     "data": {
      "text/plain": [
       "<matplotlib.axes._subplots.AxesSubplot at 0x7ff893a37e20>"
      ]
     },
     "execution_count": 15,
     "metadata": {},
     "output_type": "execute_result"
    },
    {
     "data": {
      "image/png": "[encoded data removed]",
      "text/plain": [
       "<Figure size 432x288 with 1 Axes>"
      ]
     },
     "metadata": {
      "needs_background": "light"
     },
     "output_type": "display_data"
    }
   ],
   "source": [
    "#purchased\n",
    "sns.countplot(train[\"purchased\"])"
   ]
  },
  {
   "cell_type": "code",
   "execution_count": 16,
   "metadata": {},
   "outputs": [
    {
     "data": {
      "text/plain": [
       "<matplotlib.axes._subplots.AxesSubplot at 0x7ff89396b4c0>"
      ]
     },
     "execution_count": 16,
     "metadata": {},
     "output_type": "execute_result"
    },
    {
     "data": {
      "image/png": "[encoded data removed]",
      "text/plain": [
       "<Figure size 432x288 with 1 Axes>"
      ]
     },
     "metadata": {
      "needs_background": "light"
     },
     "output_type": "display_data"
    }
   ],
   "source": [
    "#added_in_cart\n",
    "sns.countplot(train[\"added_in_cart\"])"
   ]
  },
  {
   "cell_type": "code",
   "execution_count": 17,
   "metadata": {},
   "outputs": [
    {
     "data": {
      "text/plain": [
       "<matplotlib.axes._subplots.AxesSubplot at 0x7ff89392f400>"
      ]
     },
     "execution_count": 17,
     "metadata": {},
     "output_type": "execute_result"
    },
    {
     "data": {
      "image/png": "[encoded data removed]",
      "text/plain": [
       "<Figure size 432x288 with 1 Axes>"
      ]
     },
     "metadata": {
      "needs_background": "light"
     },
     "output_type": "display_data"
    }
   ],
   "source": [
    "#checked_out\n",
    "sns.countplot(train[\"checked_out\"])"
   ]
  },
  {
   "cell_type": "code",
   "execution_count": 18,
   "metadata": {},
   "outputs": [
    {
     "data": {
      "text/plain": [
       "<matplotlib.axes._subplots.AxesSubplot at 0x7ff893876ca0>"
      ]
     },
     "execution_count": 18,
     "metadata": {},
     "output_type": "execute_result"
    },
    {
     "data": {
      "image/png": "[encoded data removed]",
      "text/plain": [
       "<Figure size 432x288 with 1 Axes>"
      ]
     },
     "metadata": {
      "needs_background": "light"
     },
     "output_type": "display_data"
    }
   ],
   "source": [
    "#year\n",
    "sns.countplot(train[\"year\"])"
   ]
  },
  {
   "cell_type": "code",
   "execution_count": 27,
   "metadata": {},
   "outputs": [
    {
     "data": {
      "image/png": "[encoded data removed]",
      "text/plain": [
       "<Figure size 432x288 with 1 Axes>"
      ]
     },
     "metadata": {
      "needs_background": "light"
     },
     "output_type": "display_data"
    }
   ],
   "source": [
    "# client_agent\n",
    "wordcloud2 = WordCloud().generate(' '.join(train['client_agent']))\n",
    "# Plot\n",
    "plt.imshow(wordcloud2)\n",
    "plt.axis(\"off\")\n",
    "plt.show()"
   ]
  },
  {
   "cell_type": "code",
   "execution_count": 25,
   "metadata": {},
   "outputs": [
    {
     "data": {
      "text/plain": [
       "array(['session_id', 'session_number', 'client_agent', 'device_details',\n",
       "       'date', 'purchased', 'added_in_cart', 'checked_out', 'time_spent',\n",
       "       'year', 'month', 'day'], dtype=object)"
      ]
     },
     "execution_count": 25,
     "metadata": {},
     "output_type": "execute_result"
    }
   ],
   "source": [
    "train.columns.values"
   ]
  },
  {
   "cell_type": "code",
   "execution_count": 73,
   "metadata": {},
   "outputs": [
    {
     "data": {
      "text/html": [
       "<div>\n",
       "<style scoped>\n",
       "    .dataframe tbody tr th:only-of-type {\n",
       "        vertical-align: middle;\n",
       "    }\n",
       "\n",
       "    .dataframe tbody tr th {\n",
       "        vertical-align: top;\n",
       "    }\n",
       "\n",
       "    .dataframe thead th {\n",
       "        text-align: right;\n",
       "    }\n",
       "</style>\n",
       "<table border=\"1\" class=\"dataframe\">\n",
       "  <thead>\n",
       "    <tr style=\"text-align: right;\">\n",
       "      <th></th>\n",
       "      <th>session_id</th>\n",
       "      <th>session_number</th>\n",
       "      <th>client_agent</th>\n",
       "      <th>device_details</th>\n",
       "      <th>date</th>\n",
       "      <th>purchased</th>\n",
       "      <th>added_in_cart</th>\n",
       "      <th>checked_out</th>\n",
       "      <th>time_spent</th>\n",
       "      <th>year</th>\n",
       "      <th>month</th>\n",
       "      <th>day</th>\n",
       "    </tr>\n",
       "  </thead>\n",
       "  <tbody>\n",
       "    <tr>\n",
       "      <th>0</th>\n",
       "      <td>57f879e70d3c5fc2a98102d64c9fd84e</td>\n",
       "      <td>715</td>\n",
       "      <td>mozilla windows nt wow applewebkit khtml like ...</td>\n",
       "      <td>desktop chrome</td>\n",
       "      <td>2020-01-22</td>\n",
       "      <td>1</td>\n",
       "      <td>0</td>\n",
       "      <td>0</td>\n",
       "      <td>236.886</td>\n",
       "      <td>2020</td>\n",
       "      <td>1</td>\n",
       "      <td>22</td>\n",
       "    </tr>\n",
       "    <tr>\n",
       "      <th>1</th>\n",
       "      <td>a5442b0c7c33d0a811e7661e556b2de8</td>\n",
       "      <td>55</td>\n",
       "      <td>product iphone</td>\n",
       "      <td>iphone ios</td>\n",
       "      <td>2020-02-27</td>\n",
       "      <td>1</td>\n",
       "      <td>0</td>\n",
       "      <td>0</td>\n",
       "      <td>1277.455</td>\n",
       "      <td>2020</td>\n",
       "      <td>2</td>\n",
       "      <td>27</td>\n",
       "    </tr>\n",
       "    <tr>\n",
       "      <th>2</th>\n",
       "      <td>305cb1486ed8610c00b37007926cb2c4</td>\n",
       "      <td>11</td>\n",
       "      <td>mozilla iphone cpu iphone os like mac os x app...</td>\n",
       "      <td>iphone mobileweb</td>\n",
       "      <td>2019-08-01</td>\n",
       "      <td>0</td>\n",
       "      <td>0</td>\n",
       "      <td>0</td>\n",
       "      <td>21.704</td>\n",
       "      <td>2019</td>\n",
       "      <td>8</td>\n",
       "      <td>1</td>\n",
       "    </tr>\n",
       "    <tr>\n",
       "      <th>3</th>\n",
       "      <td>f2c1ecc9993f0071df91ba178450498c</td>\n",
       "      <td>2794</td>\n",
       "      <td>mozilla compatible msie windows nt wow trident</td>\n",
       "      <td>desktop ie</td>\n",
       "      <td>2019-12-30</td>\n",
       "      <td>0</td>\n",
       "      <td>1</td>\n",
       "      <td>0</td>\n",
       "      <td>455.201</td>\n",
       "      <td>2019</td>\n",
       "      <td>12</td>\n",
       "      <td>30</td>\n",
       "    </tr>\n",
       "    <tr>\n",
       "      <th>4</th>\n",
       "      <td>e460830ae295e55d2216ebdc761ab9a6</td>\n",
       "      <td>3674</td>\n",
       "      <td>mozilla iphone cpu iphone os like mac os x app...</td>\n",
       "      <td>iphone web</td>\n",
       "      <td>2019-09-10</td>\n",
       "      <td>0</td>\n",
       "      <td>0</td>\n",
       "      <td>0</td>\n",
       "      <td>1164.877</td>\n",
       "      <td>2019</td>\n",
       "      <td>9</td>\n",
       "      <td>10</td>\n",
       "    </tr>\n",
       "    <tr>\n",
       "      <th>5</th>\n",
       "      <td>b4ae55a4553d43697dcf64b66033677b</td>\n",
       "      <td>550</td>\n",
       "      <td>product android device lge lg d carrier yes op...</td>\n",
       "      <td>android phone android</td>\n",
       "      <td>2020-02-06</td>\n",
       "      <td>0</td>\n",
       "      <td>1</td>\n",
       "      <td>0</td>\n",
       "      <td>6010.343</td>\n",
       "      <td>2020</td>\n",
       "      <td>2</td>\n",
       "      <td>6</td>\n",
       "    </tr>\n",
       "    <tr>\n",
       "      <th>6</th>\n",
       "      <td>a17491477ea11e951286f583b3095899</td>\n",
       "      <td>198</td>\n",
       "      <td>mozilla windows nt wow rv gecko firefox</td>\n",
       "      <td>desktop firefox</td>\n",
       "      <td>2019-05-30</td>\n",
       "      <td>1</td>\n",
       "      <td>1</td>\n",
       "      <td>1</td>\n",
       "      <td>8471.435</td>\n",
       "      <td>2019</td>\n",
       "      <td>5</td>\n",
       "      <td>30</td>\n",
       "    </tr>\n",
       "    <tr>\n",
       "      <th>7</th>\n",
       "      <td>939dfd89beacc36f5f8acd5bfa062b57</td>\n",
       "      <td>2915</td>\n",
       "      <td>mozilla windows nt wow trident touch rv like g...</td>\n",
       "      <td>android tablet web</td>\n",
       "      <td>2020-01-03</td>\n",
       "      <td>0</td>\n",
       "      <td>0</td>\n",
       "      <td>0</td>\n",
       "      <td>83.030</td>\n",
       "      <td>2020</td>\n",
       "      <td>1</td>\n",
       "      <td>3</td>\n",
       "    </tr>\n",
       "    <tr>\n",
       "      <th>8</th>\n",
       "      <td>1334aaff26b65ec26dc1e539c0ed20cb</td>\n",
       "      <td>319</td>\n",
       "      <td>product iphone</td>\n",
       "      <td>iphone ios</td>\n",
       "      <td>2019-10-19</td>\n",
       "      <td>0</td>\n",
       "      <td>0</td>\n",
       "      <td>0</td>\n",
       "      <td>97.722</td>\n",
       "      <td>2019</td>\n",
       "      <td>10</td>\n",
       "      <td>19</td>\n",
       "    </tr>\n",
       "    <tr>\n",
       "      <th>9</th>\n",
       "      <td>750d0bfd2fb9ba1628586bb98c1611ca</td>\n",
       "      <td>2574</td>\n",
       "      <td>mozilla windows nt wow applewebkit khtml like ...</td>\n",
       "      <td>desktop chrome</td>\n",
       "      <td>2020-03-04</td>\n",
       "      <td>0</td>\n",
       "      <td>1</td>\n",
       "      <td>0</td>\n",
       "      <td>44.841</td>\n",
       "      <td>2020</td>\n",
       "      <td>3</td>\n",
       "      <td>4</td>\n",
       "    </tr>\n",
       "  </tbody>\n",
       "</table>\n",
       "</div>"
      ],
      "text/plain": [
       "                         session_id  session_number  \\\n",
       "0  57f879e70d3c5fc2a98102d64c9fd84e             715   \n",
       "1  a5442b0c7c33d0a811e7661e556b2de8              55   \n",
       "2  305cb1486ed8610c00b37007926cb2c4              11   \n",
       "3  f2c1ecc9993f0071df91ba178450498c            2794   \n",
       "4  e460830ae295e55d2216ebdc761ab9a6            3674   \n",
       "5  b4ae55a4553d43697dcf64b66033677b             550   \n",
       "6  a17491477ea11e951286f583b3095899             198   \n",
       "7  939dfd89beacc36f5f8acd5bfa062b57            2915   \n",
       "8  1334aaff26b65ec26dc1e539c0ed20cb             319   \n",
       "9  750d0bfd2fb9ba1628586bb98c1611ca            2574   \n",
       "\n",
       "                                        client_agent         device_details  \\\n",
       "0  mozilla windows nt wow applewebkit khtml like ...         desktop chrome   \n",
       "1                                    product iphone              iphone ios   \n",
       "2  mozilla iphone cpu iphone os like mac os x app...       iphone mobileweb   \n",
       "3    mozilla compatible msie windows nt wow trident              desktop ie   \n",
       "4  mozilla iphone cpu iphone os like mac os x app...             iphone web   \n",
       "5  product android device lge lg d carrier yes op...  android phone android   \n",
       "6           mozilla windows nt wow rv gecko firefox         desktop firefox   \n",
       "7  mozilla windows nt wow trident touch rv like g...     android tablet web   \n",
       "8                                    product iphone              iphone ios   \n",
       "9  mozilla windows nt wow applewebkit khtml like ...         desktop chrome   \n",
       "\n",
       "        date  purchased  added_in_cart  checked_out  time_spent  year  month  \\\n",
       "0 2020-01-22          1              0            0     236.886  2020      1   \n",
       "1 2020-02-27          1              0            0    1277.455  2020      2   \n",
       "2 2019-08-01          0              0            0      21.704  2019      8   \n",
       "3 2019-12-30          0              1            0     455.201  2019     12   \n",
       "4 2019-09-10          0              0            0    1164.877  2019      9   \n",
       "5 2020-02-06          0              1            0    6010.343  2020      2   \n",
       "6 2019-05-30          1              1            1    8471.435  2019      5   \n",
       "7 2020-01-03          0              0            0      83.030  2020      1   \n",
       "8 2019-10-19          0              0            0      97.722  2019     10   \n",
       "9 2020-03-04          0              1            0      44.841  2020      3   \n",
       "\n",
       "   day  \n",
       "0   22  \n",
       "1   27  \n",
       "2    1  \n",
       "3   30  \n",
       "4   10  \n",
       "5    6  \n",
       "6   30  \n",
       "7    3  \n",
       "8   19  \n",
       "9    4  "
      ]
     },
     "execution_count": 73,
     "metadata": {},
     "output_type": "execute_result"
    }
   ],
   "source": [
    "train.head(10)"
   ]
  },
  {
   "cell_type": "markdown",
   "metadata": {},
   "source": [
    "# preprocessing the data "
   ]
  },
  {
   "cell_type": "code",
   "execution_count": 36,
   "metadata": {},
   "outputs": [
    {
     "name": "stdout",
     "output_type": "stream",
     "text": [
      "shape of x_train (3474, 12)\n",
      "shape of x_cv (869, 12)\n",
      "shape of x_test (1086, 12)\n"
     ]
    }
   ],
   "source": [
    "x_train,x_test,y_train,y_test=train_test_split(train,train[\"time_spent\"],test_size=0.2,random_state=1)\n",
    "x_train,x_cv,y_train,y_cv=train_test_split(x_train,y_train,test_size=0.2,random_state=1)\n",
    "print(\"shape of x_train\",x_train.shape)\n",
    "print(\"shape of x_cv\",x_cv.shape)\n",
    "print(\"shape of x_test\",x_test.shape)\n"
   ]
  },
  {
   "cell_type": "markdown",
   "metadata": {},
   "source": [
    "# linear regression "
   ]
  },
  {
   "cell_type": "code",
   "execution_count": 90,
   "metadata": {},
   "outputs": [],
   "source": [
    "#label encoder of device details\n",
    "label=LabelEncoder()\n",
    "label.fit(train[\"device_details\"].values.reshape(-1,1))\n",
    "device_details_label=label.transform(train[\"device_details\"]).reshape(-1,1)\n",
    "device_details_label_train=label.transform(x_train[\"device_details\"].values.reshape(-1,1)).reshape(-1,1)\n",
    "device_details_label_cv=label.transform(x_cv[\"device_details\"].values.reshape(-1,1)).reshape(-1,1)\n",
    "device_details_label_test=label.transform(x_test[\"device_details\"].values.reshape(-1,1)).reshape(-1,1)\n",
    "\n",
    "#label encoder of year\n",
    "label=LabelEncoder()\n",
    "label.fit(train[\"year\"].values.reshape(-1,1))\n",
    "year_label_train=label.transform(x_train[\"year\"].values.reshape(-1,1))\n",
    "year_label_cv=label.transform(x_cv[\"year\"].values.reshape(-1,1))\n",
    "year_label_test=label.transform(x_test[\"year\"].values.reshape(-1,1))\n"
   ]
  },
  {
   "cell_type": "code",
   "execution_count": 92,
   "metadata": {},
   "outputs": [],
   "source": [
    "#StandardScaler of session_number\n",
    "stan=StandardScaler()\n",
    "stan.fit(train[\"session_number\"].values.reshape(-1,1))\n",
    "session_number_stan_train=stan.transform(x_train[\"session_number\"].values.reshape(-1,1))\n",
    "session_number_stan_cv=stan.transform(x_cv[\"session_number\"].values.reshape(-1,1))\n",
    "session_number_stan_test=stan.transform(x_test[\"session_number\"].values.reshape(-1,1))\n",
    "\n",
    "#standardscaler of device_details\n",
    "stan=StandardScaler()\n",
    "stan.fit(device_details_label)\n",
    "device_details_stan_train=stan.transform(device_details_label_train)\n",
    "device_details_stan_cv=stan.transform(device_details_label_cv)\n",
    "device_details_stan_test=stan.transform(device_details_label_test)\n",
    "\n",
    "\n",
    "#StandardScaler of day\n",
    "stan=StandardScaler()\n",
    "stan.fit(train[\"day\"].values.reshape(-1,1))\n",
    "day_stan_train=stan.transform(x_train[\"day\"].values.reshape(-1,1))\n",
    "day_stan_cv=stan.transform(x_cv[\"day\"].values.reshape(-1,1))\n",
    "day_stan_test=stan.transform(x_test[\"day\"].values.reshape(-1,1))"
   ]
  },
  {
   "cell_type": "code",
   "execution_count": 59,
   "metadata": {},
   "outputs": [],
   "source": [
    "# tfidf vectorizer of client_agent\n",
    "tfidf=TfidfVectorizer()\n",
    "tfidf.fit(train[\"client_agent\"])\n",
    "client_agent_tfidf_train=tfidf.transform(x_train[\"client_agent\"])\n",
    "client_agent_tfidf_cv=tfidf.transform(x_cv[\"client_agent\"])\n",
    "client_agent_tfidf_test=tfidf.transform(x_test[\"client_agent\"])"
   ]
  },
  {
   "cell_type": "code",
   "execution_count": 93,
   "metadata": {},
   "outputs": [
    {
     "name": "stdout",
     "output_type": "stream",
     "text": [
      "train shape (3474, 184)\n",
      "train shape (869, 184)\n",
      "train shape (1086, 184)\n"
     ]
    }
   ],
   "source": [
    "#combining all the columns\n",
    "t=np.hstack((session_number_stan_train,client_agent_tfidf_train.toarray(),device_details_stan_train,purchased_one_train,added_in_cart_one_train,checked_out_one_train,year_one_train,month_one_train,day_stan_train))\n",
    "cv=np.hstack((session_number_stan_cv,client_agent_tfidf_cv.toarray(),device_details_stan_cv,purchased_one_cv,added_in_cart_one_cv,checked_out_one_cv,year_one_cv,month_one_cv,day_stan_cv))\n",
    "test=np.hstack((session_number_stan_test,client_agent_tfidf_test.toarray(),device_details_stan_test,purchased_one_test,added_in_cart_one_test,checked_out_one_test,year_one_test,month_one_test,day_stan_test))\n",
    "print(\"train shape\",t.shape)\n",
    "print(\"train shape\",cv.shape)\n",
    "print(\"train shape\",test.shape)"
   ]
  },
  {
   "cell_type": "code",
   "execution_count": 94,
   "metadata": {},
   "outputs": [
    {
     "name": "stderr",
     "output_type": "stream",
     "text": [
      "\u001b[32m[I 2021-03-09 12:22:28,868]\u001b[0m A new study created in memory with name: no-name-f1e7c206-b41b-4500-b4e4-e4d4feac01ca\u001b[0m\n",
      "\u001b[32m[I 2021-03-09 12:22:30,849]\u001b[0m Trial 0 finished with value: 5.217165896244441 and parameters: {'alpha': 1, 'penalty': 'elasticnet'}. Best is trial 0 with value: 5.217165896244441.\u001b[0m\n",
      "\u001b[32m[I 2021-03-09 12:22:32,880]\u001b[0m Trial 1 finished with value: 3.994345536867064 and parameters: {'alpha': 0.001, 'penalty': 'elasticnet'}. Best is trial 1 with value: 3.994345536867064.\u001b[0m\n",
      "\u001b[32m[I 2021-03-09 12:22:33,591]\u001b[0m Trial 2 finished with value: 5.561538191762227 and parameters: {'alpha': 0.01, 'penalty': 'l2'}. Best is trial 1 with value: 3.994345536867064.\u001b[0m\n",
      "\u001b[32m[I 2021-03-09 12:22:35,534]\u001b[0m Trial 3 finished with value: 3.48896399348292 and parameters: {'alpha': 1e-05, 'penalty': 'l2'}. Best is trial 3 with value: 3.48896399348292.\u001b[0m\n",
      "\u001b[32m[I 2021-03-09 12:22:36,689]\u001b[0m Trial 4 finished with value: 5.2327299190788406 and parameters: {'alpha': 0.1, 'penalty': 'l2'}. Best is trial 3 with value: 3.48896399348292.\u001b[0m\n",
      "\u001b[32m[I 2021-03-09 12:22:38,561]\u001b[0m Trial 5 finished with value: 4.446525757534561 and parameters: {'alpha': 0.01, 'penalty': 'l1'}. Best is trial 3 with value: 3.48896399348292.\u001b[0m\n",
      "\u001b[32m[I 2021-03-09 12:22:39,671]\u001b[0m Trial 6 finished with value: 4.038081277989488 and parameters: {'alpha': 0.001, 'penalty': 'l2'}. Best is trial 3 with value: 3.48896399348292.\u001b[0m\n",
      "\u001b[32m[I 2021-03-09 12:22:42,286]\u001b[0m Trial 7 finished with value: 3.6176326427442604 and parameters: {'alpha': 0.001, 'penalty': 'l1'}. Best is trial 3 with value: 3.48896399348292.\u001b[0m\n",
      "\u001b[32m[I 2021-03-09 12:22:44,444]\u001b[0m Trial 8 finished with value: 5.217165896244441 and parameters: {'alpha': 10, 'penalty': 'elasticnet'}. Best is trial 3 with value: 3.48896399348292.\u001b[0m\n",
      "\u001b[32m[I 2021-03-09 12:22:47,317]\u001b[0m Trial 9 finished with value: 5.220944853114616 and parameters: {'alpha': 0.1, 'penalty': 'elasticnet'}. Best is trial 3 with value: 3.48896399348292.\u001b[0m\n",
      "\u001b[32m[I 2021-03-09 12:22:49,345]\u001b[0m Trial 10 finished with value: 3.48896399348292 and parameters: {'alpha': 1e-05, 'penalty': 'l2'}. Best is trial 3 with value: 3.48896399348292.\u001b[0m\n",
      "\u001b[32m[I 2021-03-09 12:22:51,519]\u001b[0m Trial 11 finished with value: 3.48896399348292 and parameters: {'alpha': 1e-05, 'penalty': 'l2'}. Best is trial 3 with value: 3.48896399348292.\u001b[0m\n",
      "\u001b[32m[I 2021-03-09 12:22:53,422]\u001b[0m Trial 12 finished with value: 3.48896399348292 and parameters: {'alpha': 1e-05, 'penalty': 'l2'}. Best is trial 3 with value: 3.48896399348292.\u001b[0m\n",
      "\u001b[32m[I 2021-03-09 12:22:54,375]\u001b[0m Trial 13 finished with value: 5.21717692342747 and parameters: {'alpha': 100, 'penalty': 'l2'}. Best is trial 3 with value: 3.48896399348292.\u001b[0m\n",
      "\u001b[32m[I 2021-03-09 12:22:55,982]\u001b[0m Trial 14 finished with value: 3.5678437237037093 and parameters: {'alpha': 0.0001, 'penalty': 'l2'}. Best is trial 3 with value: 3.48896399348292.\u001b[0m\n",
      "\u001b[32m[I 2021-03-09 12:22:57,705]\u001b[0m Trial 15 finished with value: 3.48896399348292 and parameters: {'alpha': 1e-05, 'penalty': 'l2'}. Best is trial 3 with value: 3.48896399348292.\u001b[0m\n",
      "\u001b[32m[I 2021-03-09 12:23:01,810]\u001b[0m Trial 16 finished with value: 3.4777925052404113 and parameters: {'alpha': 1e-05, 'penalty': 'l1'}. Best is trial 16 with value: 3.4777925052404113.\u001b[0m\n",
      "\u001b[32m[I 2021-03-09 12:23:06,434]\u001b[0m Trial 17 finished with value: 3.4777925052404113 and parameters: {'alpha': 1e-05, 'penalty': 'l1'}. Best is trial 16 with value: 3.4777925052404113.\u001b[0m\n",
      "\u001b[32m[I 2021-03-09 12:23:09,426]\u001b[0m Trial 18 finished with value: 3.497121233977109 and parameters: {'alpha': 0.0001, 'penalty': 'l1'}. Best is trial 16 with value: 3.4777925052404113.\u001b[0m\n",
      "\u001b[32m[I 2021-03-09 12:23:11,096]\u001b[0m Trial 19 finished with value: 5.217165896244441 and parameters: {'alpha': 1, 'penalty': 'l1'}. Best is trial 16 with value: 3.4777925052404113.\u001b[0m\n",
      "\u001b[32m[I 2021-03-09 12:23:12,777]\u001b[0m Trial 20 finished with value: 5.217165896244441 and parameters: {'alpha': 100, 'penalty': 'l1'}. Best is trial 16 with value: 3.4777925052404113.\u001b[0m\n",
      "\u001b[32m[I 2021-03-09 12:23:15,894]\u001b[0m Trial 21 finished with value: 3.4777925052404113 and parameters: {'alpha': 1e-05, 'penalty': 'l1'}. Best is trial 16 with value: 3.4777925052404113.\u001b[0m\n",
      "\u001b[32m[I 2021-03-09 12:23:19,015]\u001b[0m Trial 22 finished with value: 3.4777925052404113 and parameters: {'alpha': 1e-05, 'penalty': 'l1'}. Best is trial 16 with value: 3.4777925052404113.\u001b[0m\n",
      "\u001b[32m[I 2021-03-09 12:23:22,153]\u001b[0m Trial 23 finished with value: 3.4777925052404113 and parameters: {'alpha': 1e-05, 'penalty': 'l1'}. Best is trial 16 with value: 3.4777925052404113.\u001b[0m\n",
      "\u001b[32m[I 2021-03-09 12:23:25,328]\u001b[0m Trial 24 finished with value: 3.4777925052404113 and parameters: {'alpha': 1e-05, 'penalty': 'l1'}. Best is trial 16 with value: 3.4777925052404113.\u001b[0m\n"
     ]
    }
   ],
   "source": [
    "#linear Regression\n",
    "def objective(trial):\n",
    "      alpha = trial.suggest_categorical('alpha', [1e-05, 0.0001, 0.001, 0.01, 0.1, 1, 10, 100])\n",
    "      penalty = trial.suggest_categorical('penalty', [\"l2\",\"l1\",'elasticnet'])\n",
    "      clf =SGDRegressor(alpha=alpha,random_state=1,penalty=penalty,loss='huber')\n",
    "      clf.fit(t,y_train)\n",
    "      pred=clf.predict(cv)\n",
    "    \n",
    "      return metrics.mean_squared_log_error(y_cv,pred)\n",
    "study = optuna.create_study(direction='minimize')\n",
    "study.optimize(objective, n_trials=25)\n"
   ]
  },
  {
   "cell_type": "code",
   "execution_count": 95,
   "metadata": {},
   "outputs": [
    {
     "name": "stdout",
     "output_type": "stream",
     "text": [
      "3.4777925052404113\n",
      "3.0739915000353895\n"
     ]
    }
   ],
   "source": [
    "#predicting with best hyperparameters\n",
    "clf =SGDRegressor(alpha=1e-05,random_state=1,penalty='l1',loss='huber')\n",
    "clf.fit(t,y_train)\n",
    "pred=clf.predict(cv)\n",
    "print(metrics.mean_squared_log_error(y_cv,pred))\n",
    "pred=clf.predict(test)\n",
    "print(metrics.mean_squared_log_error(y_test,pred))"
   ]
  },
  {
   "cell_type": "markdown",
   "metadata": {},
   "source": [
    "# SVM"
   ]
  },
  {
   "cell_type": "code",
   "execution_count": 96,
   "metadata": {},
   "outputs": [],
   "source": [
    "#One-Hot-Encoding device_details\n",
    "one=OneHotEncoder()\n",
    "one.fit(train[\"device_details\"].values.reshape(-1,1))\n",
    "device_details_one_train=one.transform(x_train[\"device_details\"].values.reshape(-1,1)).toarray()\n",
    "device_details_one_cv=one.transform(x_cv[\"device_details\"].values.reshape(-1,1)).toarray()\n",
    "device_details_one_test=one.transform(x_test[\"device_details\"].values.reshape(-1,1)).toarray()\n",
    "\n",
    "\n",
    "#One-Hot-Encoding purchased\n",
    "one=OneHotEncoder()\n",
    "one.fit(train[\"purchased\"].values.reshape(-1,1))\n",
    "purchased_one_train=one.transform(x_train[\"purchased\"].values.reshape(-1,1)).toarray()\n",
    "purchased_one_cv=one.transform(x_cv[\"purchased\"].values.reshape(-1,1)).toarray()\n",
    "purchased_one_test=one.transform(x_test[\"purchased\"].values.reshape(-1,1)).toarray()\n",
    "\n",
    "\n",
    "#One-Hot-Encoding added_in_cart\n",
    "one=OneHotEncoder()\n",
    "one.fit(train[\"added_in_cart\"].values.reshape(-1,1))\n",
    "added_in_cart_one_train=one.transform(x_train[\"added_in_cart\"].values.reshape(-1,1)).toarray()\n",
    "added_in_cart_one_cv=one.transform(x_cv[\"added_in_cart\"].values.reshape(-1,1)).toarray()\n",
    "added_in_cart_one_test=one.transform(x_test[\"added_in_cart\"].values.reshape(-1,1)).toarray()\n",
    "\n",
    "#One-Hot-Encoding checked_out\n",
    "one=OneHotEncoder()\n",
    "one.fit(train[\"checked_out\"].values.reshape(-1,1))\n",
    "checked_out_one_train=one.transform(x_train[\"checked_out\"].values.reshape(-1,1)).toarray()\n",
    "checked_out_one_cv=one.transform(x_cv[\"checked_out\"].values.reshape(-1,1)).toarray()\n",
    "checked_out_one_test=one.transform(x_test[\"checked_out\"].values.reshape(-1,1)).toarray()\n",
    "\n",
    "#One-Hot-Encoding year\n",
    "one=OneHotEncoder()\n",
    "one.fit(train[\"year\"].values.reshape(-1,1))\n",
    "year_one_train=one.transform(x_train[\"year\"].values.reshape(-1,1)).toarray()\n",
    "year_one_cv=one.transform(x_cv[\"year\"].values.reshape(-1,1)).toarray()\n",
    "year_one_test=one.transform(x_test[\"year\"].values.reshape(-1,1)).toarray()\n",
    "\n",
    "#One-Hot-Encoding month\n",
    "one=OneHotEncoder()\n",
    "one.fit(train[\"month\"].values.reshape(-1,1))\n",
    "month_one_train=one.transform(x_train[\"month\"].values.reshape(-1,1)).toarray()\n",
    "month_one_cv=one.transform(x_cv[\"month\"].values.reshape(-1,1)).toarray()\n",
    "month_one_test=one.transform(x_test[\"month\"].values.reshape(-1,1)).toarray()\n"
   ]
  },
  {
   "cell_type": "code",
   "execution_count": 97,
   "metadata": {},
   "outputs": [],
   "source": [
    "\n",
    "#min-max-scalling of session_number\n",
    "mms=MinMaxScaler()\n",
    "mms.fit(train[\"session_number\"].values.reshape(-1,1))\n",
    "session_number_mms_train=mms.transform(x_train[\"session_number\"].values.reshape(-1,1))\n",
    "session_number_mms_cv=mms.transform(x_cv[\"session_number\"].values.reshape(-1,1))\n",
    "session_number_mms_test=mms.transform(x_test[\"session_number\"].values.reshape(-1,1))\n",
    "\n",
    "#min-max-scalling of day\n",
    "mms=StandardScaler()\n",
    "mms.fit(train[\"day\"].values.reshape(-1,1))\n",
    "day_mms_train=mms.transform(x_train[\"day\"].values.reshape(-1,1))\n",
    "day_mms_cv=mms.transform(x_cv[\"day\"].values.reshape(-1,1))\n",
    "day_mms_test=mms.transform(x_test[\"day\"].values.reshape(-1,1))"
   ]
  },
  {
   "cell_type": "code",
   "execution_count": 98,
   "metadata": {},
   "outputs": [],
   "source": [
    "# tfidf vectorizer of client_agent\n",
    "tfidf=TfidfVectorizer()\n",
    "tfidf.fit(train[\"client_agent\"])\n",
    "client_agent_tfidf_train=tfidf.transform(x_train[\"client_agent\"])\n",
    "client_agent_tfidf_cv=tfidf.transform(x_cv[\"client_agent\"])\n",
    "client_agent_tfidf_test=tfidf.transform(x_test[\"client_agent\"])"
   ]
  },
  {
   "cell_type": "code",
   "execution_count": 99,
   "metadata": {},
   "outputs": [
    {
     "name": "stdout",
     "output_type": "stream",
     "text": [
      "train shape (3474, 200)\n",
      "train shape (869, 200)\n",
      "train shape (1086, 200)\n"
     ]
    }
   ],
   "source": [
    "#combining all the columns\n",
    "t=np.hstack((session_number_mms_train,client_agent_tfidf_train.toarray(),device_details_one_train,purchased_one_train,added_in_cart_one_train,checked_out_one_train,year_one_train,month_one_train,day_mms_train))\n",
    "cv=np.hstack((session_number_mms_cv,client_agent_tfidf_cv.toarray(),device_details_one_cv,purchased_one_cv,added_in_cart_one_cv,checked_out_one_cv,year_one_cv,month_one_cv,day_mms_cv))\n",
    "test=np.hstack((session_number_mms_test,client_agent_tfidf_test.toarray(),device_details_one_test,purchased_one_test,added_in_cart_one_test,checked_out_one_test,year_one_test,month_one_test,day_mms_test))\n",
    "print(\"train shape\",t.shape)\n",
    "print(\"train shape\",cv.shape)\n",
    "print(\"train shape\",test.shape)"
   ]
  },
  {
   "cell_type": "code",
   "execution_count": 28,
   "metadata": {},
   "outputs": [
    {
     "name": "stderr",
     "output_type": "stream",
     "text": [
      "\u001b[32m[I 2021-03-07 12:34:24,161]\u001b[0m A new study created in memory with name: no-name-e48e7688-11c2-4c1b-a33f-94b72276aaa1\u001b[0m\n",
      "\u001b[32m[I 2021-03-07 12:34:29,902]\u001b[0m Trial 0 finished with value: 3.252301481511481 and parameters: {'C': 0.1, 'gamma': 0.01}. Best is trial 0 with value: 3.252301481511481.\u001b[0m\n",
      "\u001b[32m[I 2021-03-07 12:34:35,053]\u001b[0m Trial 1 finished with value: 2.1005870755435385 and parameters: {'C': 100, 'gamma': 0.1}. Best is trial 1 with value: 2.1005870755435385.\u001b[0m\n",
      "\u001b[32m[I 2021-03-07 12:34:40,213]\u001b[0m Trial 2 finished with value: 3.2688691487577133 and parameters: {'C': 0.1, 'gamma': 0.001}. Best is trial 1 with value: 2.1005870755435385.\u001b[0m\n",
      "\u001b[32m[I 2021-03-07 12:34:45,105]\u001b[0m Trial 3 finished with value: 3.1824576649569405 and parameters: {'C': 0.1, 'gamma': 0.1}. Best is trial 1 with value: 2.1005870755435385.\u001b[0m\n",
      "\u001b[32m[I 2021-03-07 12:34:50,161]\u001b[0m Trial 4 finished with value: 2.4323755147595136 and parameters: {'C': 10, 'gamma': 0.01}. Best is trial 1 with value: 2.1005870755435385.\u001b[0m\n",
      "\u001b[32m[I 2021-03-07 12:34:55,805]\u001b[0m Trial 5 finished with value: 3.2510387192151264 and parameters: {'C': 10, 'gamma': 0.0001}. Best is trial 1 with value: 2.1005870755435385.\u001b[0m\n",
      "\u001b[32m[I 2021-03-07 12:35:01,661]\u001b[0m Trial 6 finished with value: 2.1297754791484556 and parameters: {'C': 100, 'gamma': 0.01}. Best is trial 1 with value: 2.1005870755435385.\u001b[0m\n",
      "\u001b[32m[I 2021-03-07 12:35:07,731]\u001b[0m Trial 7 finished with value: 3.2688470892015684 and parameters: {'C': 1, 'gamma': 0.0001}. Best is trial 1 with value: 2.1005870755435385.\u001b[0m\n",
      "\u001b[32m[I 2021-03-07 12:35:13,555]\u001b[0m Trial 8 finished with value: 3.077421664925363 and parameters: {'C': 100, 'gamma': 0.0001}. Best is trial 1 with value: 2.1005870755435385.\u001b[0m\n",
      "\u001b[32m[I 2021-03-07 12:35:19,113]\u001b[0m Trial 9 finished with value: 2.4323755147595136 and parameters: {'C': 10, 'gamma': 0.01}. Best is trial 1 with value: 2.1005870755435385.\u001b[0m\n",
      "\u001b[33m[W 2021-03-07 12:35:26,868]\u001b[0m Trial 10 failed, because the returned value from the objective function cannot be cast to float. Returned value is: None\u001b[0m\n"
     ]
    },
    {
     "name": "stdout",
     "output_type": "stream",
     "text": [
      "null\n"
     ]
    },
    {
     "name": "stderr",
     "output_type": "stream",
     "text": [
      "\u001b[33m[W 2021-03-07 12:35:35,901]\u001b[0m Trial 11 failed, because the returned value from the objective function cannot be cast to float. Returned value is: None\u001b[0m\n"
     ]
    },
    {
     "name": "stdout",
     "output_type": "stream",
     "text": [
      "null\n"
     ]
    },
    {
     "name": "stderr",
     "output_type": "stream",
     "text": [
      "\u001b[33m[W 2021-03-07 12:35:47,067]\u001b[0m Trial 12 failed, because the returned value from the objective function cannot be cast to float. Returned value is: None\u001b[0m\n"
     ]
    },
    {
     "name": "stdout",
     "output_type": "stream",
     "text": [
      "null\n"
     ]
    },
    {
     "name": "stderr",
     "output_type": "stream",
     "text": [
      "\u001b[33m[W 2021-03-07 12:35:59,529]\u001b[0m Trial 13 failed, because the returned value from the objective function cannot be cast to float. Returned value is: None\u001b[0m\n"
     ]
    },
    {
     "name": "stdout",
     "output_type": "stream",
     "text": [
      "null\n"
     ]
    },
    {
     "name": "stderr",
     "output_type": "stream",
     "text": [
      "\u001b[33m[W 2021-03-07 12:36:09,696]\u001b[0m Trial 14 failed, because the returned value from the objective function cannot be cast to float. Returned value is: None\u001b[0m\n"
     ]
    },
    {
     "name": "stdout",
     "output_type": "stream",
     "text": [
      "null\n"
     ]
    },
    {
     "name": "stderr",
     "output_type": "stream",
     "text": [
      "\u001b[33m[W 2021-03-07 12:36:18,517]\u001b[0m Trial 15 failed, because the returned value from the objective function cannot be cast to float. Returned value is: None\u001b[0m\n"
     ]
    },
    {
     "name": "stdout",
     "output_type": "stream",
     "text": [
      "null\n"
     ]
    },
    {
     "name": "stderr",
     "output_type": "stream",
     "text": [
      "\u001b[33m[W 2021-03-07 12:36:34,691]\u001b[0m Trial 16 failed, because the returned value from the objective function cannot be cast to float. Returned value is: None\u001b[0m\n"
     ]
    },
    {
     "name": "stdout",
     "output_type": "stream",
     "text": [
      "null\n"
     ]
    },
    {
     "name": "stderr",
     "output_type": "stream",
     "text": [
      "\u001b[33m[W 2021-03-07 12:36:54,377]\u001b[0m Trial 17 failed, because the returned value from the objective function cannot be cast to float. Returned value is: None\u001b[0m\n"
     ]
    },
    {
     "name": "stdout",
     "output_type": "stream",
     "text": [
      "null\n"
     ]
    },
    {
     "name": "stderr",
     "output_type": "stream",
     "text": [
      "\u001b[33m[W 2021-03-07 12:37:16,623]\u001b[0m Trial 18 failed, because the returned value from the objective function cannot be cast to float. Returned value is: None\u001b[0m\n"
     ]
    },
    {
     "name": "stdout",
     "output_type": "stream",
     "text": [
      "null\n"
     ]
    },
    {
     "name": "stderr",
     "output_type": "stream",
     "text": [
      "\u001b[33m[W 2021-03-07 12:37:25,813]\u001b[0m Trial 19 failed, because the returned value from the objective function cannot be cast to float. Returned value is: None\u001b[0m\n"
     ]
    },
    {
     "name": "stdout",
     "output_type": "stream",
     "text": [
      "null\n"
     ]
    },
    {
     "name": "stderr",
     "output_type": "stream",
     "text": [
      "\u001b[33m[W 2021-03-07 12:37:37,634]\u001b[0m Trial 20 failed, because the returned value from the objective function cannot be cast to float. Returned value is: None\u001b[0m\n"
     ]
    },
    {
     "name": "stdout",
     "output_type": "stream",
     "text": [
      "null\n"
     ]
    },
    {
     "name": "stderr",
     "output_type": "stream",
     "text": [
      "\u001b[33m[W 2021-03-07 12:37:54,141]\u001b[0m Trial 21 failed, because the returned value from the objective function cannot be cast to float. Returned value is: None\u001b[0m\n"
     ]
    },
    {
     "name": "stdout",
     "output_type": "stream",
     "text": [
      "null\n"
     ]
    },
    {
     "name": "stderr",
     "output_type": "stream",
     "text": [
      "\u001b[33m[W 2021-03-07 12:38:10,561]\u001b[0m Trial 22 failed, because the returned value from the objective function cannot be cast to float. Returned value is: None\u001b[0m\n"
     ]
    },
    {
     "name": "stdout",
     "output_type": "stream",
     "text": [
      "null\n"
     ]
    },
    {
     "name": "stderr",
     "output_type": "stream",
     "text": [
      "\u001b[33m[W 2021-03-07 12:38:18,576]\u001b[0m Trial 23 failed, because the returned value from the objective function cannot be cast to float. Returned value is: None\u001b[0m\n"
     ]
    },
    {
     "name": "stdout",
     "output_type": "stream",
     "text": [
      "null\n"
     ]
    },
    {
     "name": "stderr",
     "output_type": "stream",
     "text": [
      "\u001b[33m[W 2021-03-07 12:38:30,423]\u001b[0m Trial 24 failed, because the returned value from the objective function cannot be cast to float. Returned value is: None\u001b[0m\n"
     ]
    },
    {
     "name": "stdout",
     "output_type": "stream",
     "text": [
      "null\n"
     ]
    }
   ],
   "source": [
    "#SVR with kernel rbf\n",
    "def objective(trial):\n",
    "      C = trial.suggest_categorical('C', [0.1, 1, 10, 100, 1000])\n",
    "      gamma = trial.suggest_categorical('gamma', [1, 0.1, 0.01, 0.001, 0.0001])\n",
    "      clf =SVR(C=C,gamma=gamma)\n",
    "      clf.fit(t,y_train)\n",
    "      pred=clf.predict(cv)\n",
    "      try:\n",
    "          return metrics.mean_squared_log_error(y_cv,pred)\n",
    "      except:\n",
    "        print(\"null\")\n",
    "study = optuna.create_study(direction='minimize')\n",
    "study.optimize(objective, n_trials=25)"
   ]
  },
  {
   "cell_type": "code",
   "execution_count": 29,
   "metadata": {},
   "outputs": [
    {
     "name": "stdout",
     "output_type": "stream",
     "text": [
      "2.1297754791484556\n",
      "1.9415967479628502\n"
     ]
    }
   ],
   "source": [
    "#svr predicting with best hyperparameters\n",
    "clf =SVR(C=100,gamma=0.01)\n",
    "clf.fit(t,y_train)\n",
    "pred=clf.predict(cv)\n",
    "print(metrics.mean_squared_log_error(y_cv,pred))\n",
    "pred=clf.predict(test)\n",
    "print(metrics.mean_squared_log_error(y_test,pred))"
   ]
  },
  {
   "cell_type": "markdown",
   "metadata": {},
   "source": [
    "# Knn"
   ]
  },
  {
   "cell_type": "code",
   "execution_count": 102,
   "metadata": {},
   "outputs": [
    {
     "name": "stderr",
     "output_type": "stream",
     "text": [
      "\u001b[32m[I 2021-03-09 12:34:57,178]\u001b[0m A new study created in memory with name: no-name-7326256e-cab4-45dc-95c4-4bff01c04dba\u001b[0m\n",
      "\u001b[32m[I 2021-03-09 12:34:57,641]\u001b[0m Trial 0 finished with value: 3.1267487508934444 and parameters: {'n_neighbors': 3, 'p': 2}. Best is trial 0 with value: 3.1267487508934444.\u001b[0m\n",
      "\u001b[32m[I 2021-03-09 12:34:57,895]\u001b[0m Trial 1 finished with value: 3.727468209562734 and parameters: {'n_neighbors': 1, 'p': 2}. Best is trial 0 with value: 3.1267487508934444.\u001b[0m\n",
      "\u001b[32m[I 2021-03-09 12:34:58,235]\u001b[0m Trial 2 finished with value: 2.992755495125457 and parameters: {'n_neighbors': 5, 'p': 1}. Best is trial 2 with value: 2.992755495125457.\u001b[0m\n",
      "\u001b[32m[I 2021-03-09 12:34:58,611]\u001b[0m Trial 3 finished with value: 3.0411206803675084 and parameters: {'n_neighbors': 7, 'p': 1}. Best is trial 2 with value: 2.992755495125457.\u001b[0m\n",
      "\u001b[32m[I 2021-03-09 12:34:58,916]\u001b[0m Trial 4 finished with value: 3.062494459163197 and parameters: {'n_neighbors': 5, 'p': 2}. Best is trial 2 with value: 2.992755495125457.\u001b[0m\n",
      "\u001b[32m[I 2021-03-09 12:34:59,305]\u001b[0m Trial 5 finished with value: 3.0808090101149164 and parameters: {'n_neighbors': 4, 'p': 2}. Best is trial 2 with value: 2.992755495125457.\u001b[0m\n",
      "\u001b[32m[I 2021-03-09 12:34:59,772]\u001b[0m Trial 6 finished with value: 3.1626869397535917 and parameters: {'n_neighbors': 6, 'p': 2}. Best is trial 2 with value: 2.992755495125457.\u001b[0m\n",
      "\u001b[32m[I 2021-03-09 12:35:00,211]\u001b[0m Trial 7 finished with value: 3.5663644613751577 and parameters: {'n_neighbors': 1, 'p': 1}. Best is trial 2 with value: 2.992755495125457.\u001b[0m\n",
      "\u001b[32m[I 2021-03-09 12:35:00,541]\u001b[0m Trial 8 finished with value: 3.1626869397535917 and parameters: {'n_neighbors': 6, 'p': 2}. Best is trial 2 with value: 2.992755495125457.\u001b[0m\n",
      "\u001b[32m[I 2021-03-09 12:35:01,125]\u001b[0m Trial 9 finished with value: 3.0808090101149164 and parameters: {'n_neighbors': 4, 'p': 2}. Best is trial 2 with value: 2.992755495125457.\u001b[0m\n",
      "\u001b[32m[I 2021-03-09 12:35:01,618]\u001b[0m Trial 10 finished with value: 3.18964131938879 and parameters: {'n_neighbors': 9, 'p': 1}. Best is trial 2 with value: 2.992755495125457.\u001b[0m\n",
      "\u001b[32m[I 2021-03-09 12:35:01,985]\u001b[0m Trial 11 finished with value: 3.0411206803675084 and parameters: {'n_neighbors': 7, 'p': 1}. Best is trial 2 with value: 2.992755495125457.\u001b[0m\n",
      "\u001b[32m[I 2021-03-09 12:35:02,325]\u001b[0m Trial 12 finished with value: 2.992755495125457 and parameters: {'n_neighbors': 5, 'p': 1}. Best is trial 2 with value: 2.992755495125457.\u001b[0m\n",
      "\u001b[32m[I 2021-03-09 12:35:02,656]\u001b[0m Trial 13 finished with value: 2.992755495125457 and parameters: {'n_neighbors': 5, 'p': 1}. Best is trial 2 with value: 2.992755495125457.\u001b[0m\n",
      "\u001b[32m[I 2021-03-09 12:35:02,993]\u001b[0m Trial 14 finished with value: 2.992755495125457 and parameters: {'n_neighbors': 5, 'p': 1}. Best is trial 2 with value: 2.992755495125457.\u001b[0m\n",
      "\u001b[32m[I 2021-03-09 12:35:03,326]\u001b[0m Trial 15 finished with value: 2.992755495125457 and parameters: {'n_neighbors': 5, 'p': 1}. Best is trial 2 with value: 2.992755495125457.\u001b[0m\n",
      "\u001b[32m[I 2021-03-09 12:35:03,673]\u001b[0m Trial 16 finished with value: 2.992755495125457 and parameters: {'n_neighbors': 5, 'p': 1}. Best is trial 2 with value: 2.992755495125457.\u001b[0m\n",
      "\u001b[32m[I 2021-03-09 12:35:04,019]\u001b[0m Trial 17 finished with value: 2.992755495125457 and parameters: {'n_neighbors': 5, 'p': 1}. Best is trial 2 with value: 2.992755495125457.\u001b[0m\n",
      "\u001b[32m[I 2021-03-09 12:35:04,577]\u001b[0m Trial 18 finished with value: 3.18964131938879 and parameters: {'n_neighbors': 9, 'p': 1}. Best is trial 2 with value: 2.992755495125457.\u001b[0m\n",
      "\u001b[32m[I 2021-03-09 12:35:04,869]\u001b[0m Trial 19 finished with value: 3.119880235216243 and parameters: {'n_neighbors': 3, 'p': 1}. Best is trial 2 with value: 2.992755495125457.\u001b[0m\n",
      "\u001b[32m[I 2021-03-09 12:35:05,256]\u001b[0m Trial 20 finished with value: 2.992755495125457 and parameters: {'n_neighbors': 5, 'p': 1}. Best is trial 2 with value: 2.992755495125457.\u001b[0m\n",
      "\u001b[32m[I 2021-03-09 12:35:05,651]\u001b[0m Trial 21 finished with value: 2.992755495125457 and parameters: {'n_neighbors': 5, 'p': 1}. Best is trial 2 with value: 2.992755495125457.\u001b[0m\n",
      "\u001b[32m[I 2021-03-09 12:35:06,278]\u001b[0m Trial 22 finished with value: 2.992755495125457 and parameters: {'n_neighbors': 5, 'p': 1}. Best is trial 2 with value: 2.992755495125457.\u001b[0m\n",
      "\u001b[32m[I 2021-03-09 12:35:06,689]\u001b[0m Trial 23 finished with value: 2.992755495125457 and parameters: {'n_neighbors': 5, 'p': 1}. Best is trial 2 with value: 2.992755495125457.\u001b[0m\n",
      "\u001b[32m[I 2021-03-09 12:35:07,068]\u001b[0m Trial 24 finished with value: 2.992755495125457 and parameters: {'n_neighbors': 5, 'p': 1}. Best is trial 2 with value: 2.992755495125457.\u001b[0m\n"
     ]
    }
   ],
   "source": [
    "def objective(trial):\n",
    "      n_neighbors = trial.suggest_categorical('n_neighbors',[1,3,4,5,6,7,9])\n",
    "      p = trial.suggest_categorical('p', [1,2])\n",
    "      clf =KNeighborsRegressor(n_neighbors=n_neighbors,p=p,n_jobs=-1)\n",
    "      clf.fit(t,y_train)\n",
    "      pred=clf.predict(cv)\n",
    "      return metrics.mean_squared_log_error(y_cv,pred)\n",
    "study = optuna.create_study(direction='minimize')\n",
    "study.optimize(objective, n_trials=25)"
   ]
  },
  {
   "cell_type": "code",
   "execution_count": 101,
   "metadata": {},
   "outputs": [
    {
     "name": "stdout",
     "output_type": "stream",
     "text": [
      "2.992755495125457\n",
      "3.483388367720134\n"
     ]
    }
   ],
   "source": [
    "##predicting the values with best hyperparameter\n",
    "clf=KNeighborsRegressor(n_neighbors=5,p=1)\n",
    "clf.fit(t,y_train)\n",
    "pred=clf.predict(cv)\n",
    "print(metrics.mean_squared_log_error(y_cv,pred))\n",
    "pred=clf.predict(test)\n",
    "print(metrics.mean_squared_log_error(y_test,pred))"
   ]
  },
  {
   "cell_type": "markdown",
   "metadata": {},
   "source": [
    "# decsion tree"
   ]
  },
  {
   "cell_type": "code",
   "execution_count": null,
   "metadata": {},
   "outputs": [],
   "source": [
    "#label encoder device_details\n",
    "label=LabelEncoder()\n",
    "label.fit(train[\"device_details\"].values.reshape(-1,1))\n",
    "device_details_label_train=label.transform(x_train[\"device_details\"].values.reshape(-1,1))\n",
    "device_details_label_cv=label.transform(x_cv[\"device_details\"].values.reshape(-1,1))\n",
    "device_details_label_test=label.transform(x_test[\"device_details\"].values.reshape(-1,1))"
   ]
  },
  {
   "cell_type": "code",
   "execution_count": null,
   "metadata": {},
   "outputs": [],
   "source": [
    "# tfidf vectorizer of client_agent\n",
    "tfidf=TfidfVectorizer()\n",
    "tfidf.fit(train[\"client_agent\"])\n",
    "client_agent_tfidf_train=tfidf.transform(x_train[\"client_agent\"])\n",
    "client_agent_tfidf_cv=tfidf.transform(x_cv[\"client_agent\"])\n",
    "client_agent_tfidf_test=tfidf.transform(x_test[\"client_agent\"])"
   ]
  },
  {
   "cell_type": "code",
   "execution_count": 14,
   "metadata": {},
   "outputs": [
    {
     "name": "stdout",
     "output_type": "stream",
     "text": [
      "train shape (3474, 169)\n",
      "train shape (869, 169)\n",
      "train shape (1086, 169)\n"
     ]
    }
   ],
   "source": [
    "\n",
    "#combining all the columns\n",
    "t=np.hstack((x_train[\"session_number\"].values.reshape(-1,1),client_agent_tfidf_train.toarray(),device_details_label_train.reshape(-1,1),x_train[\"purchased\"].values.reshape(-1,1),x_train[\"added_in_cart\"].values.reshape(-1,1),x_train[\"checked_out\"].values.reshape(-1,1),x_train[\"year\"].values.reshape(-1,1),x_train[\"month\"].values.reshape(-1,1),x_train[\"day\"].values.reshape(-1,1)))\n",
    "cv=np.hstack((x_cv[\"session_number\"].values.reshape(-1,1),client_agent_tfidf_cv.toarray(),device_details_label_cv.reshape(-1,1),x_cv[\"purchased\"].values.reshape(-1,1),x_cv[\"added_in_cart\"].values.reshape(-1,1),x_cv[\"checked_out\"].values.reshape(-1,1),x_cv[\"year\"].values.reshape(-1,1),x_cv[\"month\"].values.reshape(-1,1),x_cv[\"day\"].values.reshape(-1,1)))\n",
    "test=np.hstack((x_test[\"session_number\"].values.reshape(-1,1),client_agent_tfidf_test.toarray(),device_details_label_test.reshape(-1,1),x_test[\"purchased\"].values.reshape(-1,1),x_test[\"added_in_cart\"].values.reshape(-1,1),x_test[\"checked_out\"].values.reshape(-1,1),x_test[\"year\"].values.reshape(-1,1),x_test[\"month\"].values.reshape(-1,1),x_test[\"day\"].values.reshape(-1,1)))\n",
    "print(\"train shape\",t.shape)\n",
    "print(\"train shape\",cv.shape)\n",
    "print(\"train shape\",test.shape)"
   ]
  },
  {
   "cell_type": "code",
   "execution_count": 16,
   "metadata": {},
   "outputs": [
    {
     "name": "stdout",
     "output_type": "stream",
     "text": [
      "loss for i; 5 is: 3.4277769083703173\n",
      "loss for i; 10 is: 3.1615870695079322\n",
      "loss for i; 15 is: 3.3068272408415553\n",
      "loss for i; 11 is: 3.099123276448025\n",
      "loss for i; 20 is: 3.3796796809844585\n"
     ]
    }
   ],
   "source": [
    "# decsison tree for best hyperparameter\n",
    "max_depth=[5,10,15,11,20]\n",
    "cv_error=[]\n",
    "for i in max_depth:\n",
    "    clf=DecisionTreeRegressor(max_depth=i,random_state=1)\n",
    "    clf.fit(t,y_train)\n",
    "    pred=clf.predict(cv)\n",
    "    cv_error.append(pred)\n",
    "    print(\"loss for i;\",i,\"is:\",metrics.mean_squared_log_error(y_cv,pred))"
   ]
  },
  {
   "cell_type": "code",
   "execution_count": 17,
   "metadata": {},
   "outputs": [
    {
     "name": "stdout",
     "output_type": "stream",
     "text": [
      "3.5225847609712573\n",
      "3.773993773415752\n"
     ]
    }
   ],
   "source": [
    "#predicting the values with best hyperparameter\n",
    "clf=DecisionTreeRegressor(max_depth=np.argmin(cv_error),random_state=1)\n",
    "clf.fit(t,y_train)\n",
    "pred=clf.predict(cv)\n",
    "print(metrics.mean_squared_log_error(y_cv,pred))\n",
    "pred=clf.predict(test)\n",
    "print(metrics.mean_squared_log_error(y_test,pred))"
   ]
  },
  {
   "cell_type": "markdown",
   "metadata": {},
   "source": [
    "# Random forest\n"
   ]
  },
  {
   "cell_type": "code",
   "execution_count": 30,
   "metadata": {},
   "outputs": [
    {
     "name": "stderr",
     "output_type": "stream",
     "text": [
      "\u001b[32m[I 2021-03-08 11:23:47,126]\u001b[0m A new study created in memory with name: no-name-b56fadda-8079-48a7-b616-1bd8ccb92df2\u001b[0m\n",
      "\u001b[32m[I 2021-03-08 11:24:05,220]\u001b[0m Trial 0 finished with value: 3.095554261600683 and parameters: {'n_estimators': 700, 'max_depth': 50}. Best is trial 0 with value: 3.095554261600683.\u001b[0m\n",
      "\u001b[32m[I 2021-03-08 11:24:24,335]\u001b[0m Trial 1 finished with value: 3.0984575319580787 and parameters: {'n_estimators': 1000, 'max_depth': 60}. Best is trial 0 with value: 3.095554261600683.\u001b[0m\n",
      "\u001b[32m[I 2021-03-08 11:24:45,747]\u001b[0m Trial 2 finished with value: 3.0952720618686356 and parameters: {'n_estimators': 900, 'max_depth': 50}. Best is trial 2 with value: 3.0952720618686356.\u001b[0m\n",
      "\u001b[32m[I 2021-03-08 11:25:01,459]\u001b[0m Trial 3 finished with value: 3.095554261600683 and parameters: {'n_estimators': 700, 'max_depth': 60}. Best is trial 2 with value: 3.0952720618686356.\u001b[0m\n",
      "\u001b[32m[I 2021-03-08 11:25:17,511]\u001b[0m Trial 4 finished with value: 3.0950713992749623 and parameters: {'n_estimators': 800, 'max_depth': 45}. Best is trial 4 with value: 3.0950713992749623.\u001b[0m\n",
      "\u001b[32m[I 2021-03-08 11:25:35,911]\u001b[0m Trial 5 finished with value: 3.0952720618686365 and parameters: {'n_estimators': 900, 'max_depth': 45}. Best is trial 4 with value: 3.0950713992749623.\u001b[0m\n",
      "\u001b[32m[I 2021-03-08 11:26:00,716]\u001b[0m Trial 6 finished with value: 3.1016906999812455 and parameters: {'n_estimators': 1100, 'max_depth': 60}. Best is trial 4 with value: 3.0950713992749623.\u001b[0m\n",
      "\u001b[32m[I 2021-03-08 11:26:22,414]\u001b[0m Trial 7 finished with value: 3.1016906999812455 and parameters: {'n_estimators': 1100, 'max_depth': 50}. Best is trial 4 with value: 3.0950713992749623.\u001b[0m\n",
      "\u001b[32m[I 2021-03-08 11:26:39,594]\u001b[0m Trial 8 finished with value: 3.0952720618686365 and parameters: {'n_estimators': 900, 'max_depth': 55}. Best is trial 4 with value: 3.0950713992749623.\u001b[0m\n",
      "\u001b[32m[I 2021-03-08 11:26:52,733]\u001b[0m Trial 9 finished with value: 3.095554261600683 and parameters: {'n_estimators': 700, 'max_depth': 60}. Best is trial 4 with value: 3.0950713992749623.\u001b[0m\n",
      "\u001b[32m[I 2021-03-08 11:27:08,047]\u001b[0m Trial 10 finished with value: 3.0950713992749623 and parameters: {'n_estimators': 800, 'max_depth': 45}. Best is trial 4 with value: 3.0950713992749623.\u001b[0m\n",
      "\u001b[32m[I 2021-03-08 11:27:26,002]\u001b[0m Trial 11 finished with value: 3.0950713992749623 and parameters: {'n_estimators': 800, 'max_depth': 45}. Best is trial 4 with value: 3.0950713992749623.\u001b[0m\n",
      "\u001b[32m[I 2021-03-08 11:27:43,552]\u001b[0m Trial 12 finished with value: 3.0950713992749623 and parameters: {'n_estimators': 800, 'max_depth': 45}. Best is trial 4 with value: 3.0950713992749623.\u001b[0m\n",
      "\u001b[32m[I 2021-03-08 11:28:04,236]\u001b[0m Trial 13 finished with value: 3.0950713992749623 and parameters: {'n_estimators': 800, 'max_depth': 45}. Best is trial 4 with value: 3.0950713992749623.\u001b[0m\n",
      "\u001b[32m[I 2021-03-08 11:28:26,453]\u001b[0m Trial 14 finished with value: 3.0950713992749623 and parameters: {'n_estimators': 800, 'max_depth': 45}. Best is trial 4 with value: 3.0950713992749623.\u001b[0m\n",
      "\u001b[32m[I 2021-03-08 11:28:44,881]\u001b[0m Trial 15 finished with value: 3.0950713992749623 and parameters: {'n_estimators': 800, 'max_depth': 55}. Best is trial 4 with value: 3.0950713992749623.\u001b[0m\n",
      "\u001b[32m[I 2021-03-08 11:29:03,569]\u001b[0m Trial 16 finished with value: 3.0950713992749623 and parameters: {'n_estimators': 800, 'max_depth': 45}. Best is trial 4 with value: 3.0950713992749623.\u001b[0m\n",
      "\u001b[32m[I 2021-03-08 11:29:31,498]\u001b[0m Trial 17 finished with value: 3.0984575319580787 and parameters: {'n_estimators': 1000, 'max_depth': 45}. Best is trial 4 with value: 3.0950713992749623.\u001b[0m\n",
      "\u001b[32m[I 2021-03-08 11:29:47,967]\u001b[0m Trial 18 finished with value: 3.0950713992749623 and parameters: {'n_estimators': 800, 'max_depth': 55}. Best is trial 4 with value: 3.0950713992749623.\u001b[0m\n",
      "\u001b[32m[I 2021-03-08 11:30:07,246]\u001b[0m Trial 19 finished with value: 3.0950713992749623 and parameters: {'n_estimators': 800, 'max_depth': 55}. Best is trial 4 with value: 3.0950713992749623.\u001b[0m\n",
      "\u001b[32m[I 2021-03-08 11:30:38,306]\u001b[0m Trial 20 finished with value: 3.1016906999812455 and parameters: {'n_estimators': 1100, 'max_depth': 55}. Best is trial 4 with value: 3.0950713992749623.\u001b[0m\n",
      "\u001b[32m[I 2021-03-08 11:31:00,422]\u001b[0m Trial 21 finished with value: 3.0950713992749623 and parameters: {'n_estimators': 800, 'max_depth': 55}. Best is trial 4 with value: 3.0950713992749623.\u001b[0m\n",
      "\u001b[32m[I 2021-03-08 11:31:30,953]\u001b[0m Trial 22 finished with value: 3.0950713992749623 and parameters: {'n_estimators': 800, 'max_depth': 55}. Best is trial 4 with value: 3.0950713992749623.\u001b[0m\n",
      "\u001b[32m[I 2021-03-08 11:31:55,780]\u001b[0m Trial 23 finished with value: 3.0950713992749623 and parameters: {'n_estimators': 800, 'max_depth': 55}. Best is trial 4 with value: 3.0950713992749623.\u001b[0m\n",
      "\u001b[32m[I 2021-03-08 11:32:22,009]\u001b[0m Trial 24 finished with value: 3.0950713992749623 and parameters: {'n_estimators': 800, 'max_depth': 55}. Best is trial 4 with value: 3.0950713992749623.\u001b[0m\n"
     ]
    }
   ],
   "source": [
    "#Random forest  Regression\n",
    "def objective(trial):\n",
    "      n_estimators = trial.suggest_categorical('n_estimators',[700,800,900,1000,1100])\n",
    "      max_depth = trial.suggest_categorical('max_depth', [45,50,55,60])\n",
    "      clf =RandomForestRegressor(n_estimators=n_estimators,random_state=1,max_depth=max_depth,n_jobs=-1)\n",
    "      clf.fit(t,y_train)\n",
    "      pred=clf.predict(cv)\n",
    "      return metrics.mean_squared_log_error(y_cv,pred)\n",
    "study = optuna.create_study(direction='minimize')\n",
    "study.optimize(objective, n_trials=25)"
   ]
  },
  {
   "cell_type": "code",
   "execution_count": 41,
   "metadata": {},
   "outputs": [
    {
     "name": "stdout",
     "output_type": "stream",
     "text": [
      "3.0950713992749623\n",
      "3.4123135034717023\n"
     ]
    }
   ],
   "source": [
    "#preditcting with best params\n",
    "#predicting the values with best hyperparameter\n",
    "clf=RandomForestRegressor(max_depth=45,random_state=1,n_estimators=800)\n",
    "clf.fit(t,y_train)\n",
    "pred=clf.predict(cv)\n",
    "print(metrics.mean_squared_log_error(y_cv,pred))\n",
    "pred=clf.predict(test)\n",
    "print(metrics.mean_squared_log_error(y_test,pred))"
   ]
  },
  {
   "cell_type": "code",
   "execution_count": null,
   "metadata": {},
   "outputs": [],
   "source": []
  },
  {
   "cell_type": "markdown",
   "metadata": {},
   "source": [
    "# The best model is SVR which got test error as 1.9415967479628502"
   ]
  },
  {
   "cell_type": "code",
   "execution_count": 104,
   "metadata": {},
   "outputs": [
    {
     "data": {
      "text/html": [
       "<div>\n",
       "<style scoped>\n",
       "    .dataframe tbody tr th:only-of-type {\n",
       "        vertical-align: middle;\n",
       "    }\n",
       "\n",
       "    .dataframe tbody tr th {\n",
       "        vertical-align: top;\n",
       "    }\n",
       "\n",
       "    .dataframe thead th {\n",
       "        text-align: right;\n",
       "    }\n",
       "</style>\n",
       "<table border=\"1\" class=\"dataframe\">\n",
       "  <thead>\n",
       "    <tr style=\"text-align: right;\">\n",
       "      <th></th>\n",
       "      <th>session_id</th>\n",
       "      <th>session_number</th>\n",
       "      <th>client_agent</th>\n",
       "      <th>device_details</th>\n",
       "      <th>date</th>\n",
       "      <th>purchased</th>\n",
       "      <th>added_in_cart</th>\n",
       "      <th>checked_out</th>\n",
       "      <th>time_spent</th>\n",
       "      <th>year</th>\n",
       "      <th>month</th>\n",
       "      <th>day</th>\n",
       "    </tr>\n",
       "  </thead>\n",
       "  <tbody>\n",
       "    <tr>\n",
       "      <th>0</th>\n",
       "      <td>57f879e70d3c5fc2a98102d64c9fd84e</td>\n",
       "      <td>715</td>\n",
       "      <td>mozilla windows nt wow applewebkit khtml like ...</td>\n",
       "      <td>desktop chrome</td>\n",
       "      <td>2020-01-22</td>\n",
       "      <td>1</td>\n",
       "      <td>0</td>\n",
       "      <td>0</td>\n",
       "      <td>236.886</td>\n",
       "      <td>2020</td>\n",
       "      <td>1</td>\n",
       "      <td>22</td>\n",
       "    </tr>\n",
       "    <tr>\n",
       "      <th>1</th>\n",
       "      <td>a5442b0c7c33d0a811e7661e556b2de8</td>\n",
       "      <td>55</td>\n",
       "      <td>product iphone</td>\n",
       "      <td>iphone ios</td>\n",
       "      <td>2020-02-27</td>\n",
       "      <td>1</td>\n",
       "      <td>0</td>\n",
       "      <td>0</td>\n",
       "      <td>1277.455</td>\n",
       "      <td>2020</td>\n",
       "      <td>2</td>\n",
       "      <td>27</td>\n",
       "    </tr>\n",
       "    <tr>\n",
       "      <th>2</th>\n",
       "      <td>305cb1486ed8610c00b37007926cb2c4</td>\n",
       "      <td>11</td>\n",
       "      <td>mozilla iphone cpu iphone os like mac os x app...</td>\n",
       "      <td>iphone mobileweb</td>\n",
       "      <td>2019-08-01</td>\n",
       "      <td>0</td>\n",
       "      <td>0</td>\n",
       "      <td>0</td>\n",
       "      <td>21.704</td>\n",
       "      <td>2019</td>\n",
       "      <td>8</td>\n",
       "      <td>1</td>\n",
       "    </tr>\n",
       "    <tr>\n",
       "      <th>3</th>\n",
       "      <td>f2c1ecc9993f0071df91ba178450498c</td>\n",
       "      <td>2794</td>\n",
       "      <td>mozilla compatible msie windows nt wow trident</td>\n",
       "      <td>desktop ie</td>\n",
       "      <td>2019-12-30</td>\n",
       "      <td>0</td>\n",
       "      <td>1</td>\n",
       "      <td>0</td>\n",
       "      <td>455.201</td>\n",
       "      <td>2019</td>\n",
       "      <td>12</td>\n",
       "      <td>30</td>\n",
       "    </tr>\n",
       "    <tr>\n",
       "      <th>4</th>\n",
       "      <td>e460830ae295e55d2216ebdc761ab9a6</td>\n",
       "      <td>3674</td>\n",
       "      <td>mozilla iphone cpu iphone os like mac os x app...</td>\n",
       "      <td>iphone web</td>\n",
       "      <td>2019-09-10</td>\n",
       "      <td>0</td>\n",
       "      <td>0</td>\n",
       "      <td>0</td>\n",
       "      <td>1164.877</td>\n",
       "      <td>2019</td>\n",
       "      <td>9</td>\n",
       "      <td>10</td>\n",
       "    </tr>\n",
       "    <tr>\n",
       "      <th>5</th>\n",
       "      <td>b4ae55a4553d43697dcf64b66033677b</td>\n",
       "      <td>550</td>\n",
       "      <td>product android device lge lg d carrier yes op...</td>\n",
       "      <td>android phone android</td>\n",
       "      <td>2020-02-06</td>\n",
       "      <td>0</td>\n",
       "      <td>1</td>\n",
       "      <td>0</td>\n",
       "      <td>6010.343</td>\n",
       "      <td>2020</td>\n",
       "      <td>2</td>\n",
       "      <td>6</td>\n",
       "    </tr>\n",
       "    <tr>\n",
       "      <th>6</th>\n",
       "      <td>a17491477ea11e951286f583b3095899</td>\n",
       "      <td>198</td>\n",
       "      <td>mozilla windows nt wow rv gecko firefox</td>\n",
       "      <td>desktop firefox</td>\n",
       "      <td>2019-05-30</td>\n",
       "      <td>1</td>\n",
       "      <td>1</td>\n",
       "      <td>1</td>\n",
       "      <td>8471.435</td>\n",
       "      <td>2019</td>\n",
       "      <td>5</td>\n",
       "      <td>30</td>\n",
       "    </tr>\n",
       "    <tr>\n",
       "      <th>7</th>\n",
       "      <td>939dfd89beacc36f5f8acd5bfa062b57</td>\n",
       "      <td>2915</td>\n",
       "      <td>mozilla windows nt wow trident touch rv like g...</td>\n",
       "      <td>android tablet web</td>\n",
       "      <td>2020-01-03</td>\n",
       "      <td>0</td>\n",
       "      <td>0</td>\n",
       "      <td>0</td>\n",
       "      <td>83.030</td>\n",
       "      <td>2020</td>\n",
       "      <td>1</td>\n",
       "      <td>3</td>\n",
       "    </tr>\n",
       "    <tr>\n",
       "      <th>8</th>\n",
       "      <td>1334aaff26b65ec26dc1e539c0ed20cb</td>\n",
       "      <td>319</td>\n",
       "      <td>product iphone</td>\n",
       "      <td>iphone ios</td>\n",
       "      <td>2019-10-19</td>\n",
       "      <td>0</td>\n",
       "      <td>0</td>\n",
       "      <td>0</td>\n",
       "      <td>97.722</td>\n",
       "      <td>2019</td>\n",
       "      <td>10</td>\n",
       "      <td>19</td>\n",
       "    </tr>\n",
       "    <tr>\n",
       "      <th>9</th>\n",
       "      <td>750d0bfd2fb9ba1628586bb98c1611ca</td>\n",
       "      <td>2574</td>\n",
       "      <td>mozilla windows nt wow applewebkit khtml like ...</td>\n",
       "      <td>desktop chrome</td>\n",
       "      <td>2020-03-04</td>\n",
       "      <td>0</td>\n",
       "      <td>1</td>\n",
       "      <td>0</td>\n",
       "      <td>44.841</td>\n",
       "      <td>2020</td>\n",
       "      <td>3</td>\n",
       "      <td>4</td>\n",
       "    </tr>\n",
       "  </tbody>\n",
       "</table>\n",
       "</div>"
      ],
      "text/plain": [
       "                         session_id  session_number  \\\n",
       "0  57f879e70d3c5fc2a98102d64c9fd84e             715   \n",
       "1  a5442b0c7c33d0a811e7661e556b2de8              55   \n",
       "2  305cb1486ed8610c00b37007926cb2c4              11   \n",
       "3  f2c1ecc9993f0071df91ba178450498c            2794   \n",
       "4  e460830ae295e55d2216ebdc761ab9a6            3674   \n",
       "5  b4ae55a4553d43697dcf64b66033677b             550   \n",
       "6  a17491477ea11e951286f583b3095899             198   \n",
       "7  939dfd89beacc36f5f8acd5bfa062b57            2915   \n",
       "8  1334aaff26b65ec26dc1e539c0ed20cb             319   \n",
       "9  750d0bfd2fb9ba1628586bb98c1611ca            2574   \n",
       "\n",
       "                                        client_agent         device_details  \\\n",
       "0  mozilla windows nt wow applewebkit khtml like ...         desktop chrome   \n",
       "1                                    product iphone              iphone ios   \n",
       "2  mozilla iphone cpu iphone os like mac os x app...       iphone mobileweb   \n",
       "3    mozilla compatible msie windows nt wow trident              desktop ie   \n",
       "4  mozilla iphone cpu iphone os like mac os x app...             iphone web   \n",
       "5  product android device lge lg d carrier yes op...  android phone android   \n",
       "6           mozilla windows nt wow rv gecko firefox         desktop firefox   \n",
       "7  mozilla windows nt wow trident touch rv like g...     android tablet web   \n",
       "8                                    product iphone              iphone ios   \n",
       "9  mozilla windows nt wow applewebkit khtml like ...         desktop chrome   \n",
       "\n",
       "        date  purchased  added_in_cart  checked_out  time_spent  year  month  \\\n",
       "0 2020-01-22          1              0            0     236.886  2020      1   \n",
       "1 2020-02-27          1              0            0    1277.455  2020      2   \n",
       "2 2019-08-01          0              0            0      21.704  2019      8   \n",
       "3 2019-12-30          0              1            0     455.201  2019     12   \n",
       "4 2019-09-10          0              0            0    1164.877  2019      9   \n",
       "5 2020-02-06          0              1            0    6010.343  2020      2   \n",
       "6 2019-05-30          1              1            1    8471.435  2019      5   \n",
       "7 2020-01-03          0              0            0      83.030  2020      1   \n",
       "8 2019-10-19          0              0            0      97.722  2019     10   \n",
       "9 2020-03-04          0              1            0      44.841  2020      3   \n",
       "\n",
       "   day  \n",
       "0   22  \n",
       "1   27  \n",
       "2    1  \n",
       "3   30  \n",
       "4   10  \n",
       "5    6  \n",
       "6   30  \n",
       "7    3  \n",
       "8   19  \n",
       "9    4  "
      ]
     },
     "execution_count": 104,
     "metadata": {},
     "output_type": "execute_result"
    }
   ],
   "source": [
    "#training the SVR of whole data \n",
    "train.head(10)"
   ]
  },
  {
   "cell_type": "code",
   "execution_count": 134,
   "metadata": {},
   "outputs": [],
   "source": [
    "#preprocessing the data\n",
    "#One-Hot-Encoding device_details\n",
    "one=OneHotEncoder()\n",
    "device_details=one.fit_transform(train[\"device_details\"].values.reshape(-1,1)).toarray()\n",
    "\n",
    "\n",
    "#One-Hot-Encoding purchased\n",
    "one=OneHotEncoder()\n",
    "purchased=one.fit_transform(train[\"purchased\"].values.reshape(-1,1)).toarray()\n",
    "\n",
    "\n",
    "\n",
    "#One-Hot-Encoding added_in_cart\n",
    "one=OneHotEncoder()\n",
    "added_in_cart=one.fit_transform(train[\"added_in_cart\"].values.reshape(-1,1)).toarray()\n",
    "\n",
    "\n",
    "#One-Hot-Encoding checked_out\n",
    "one=OneHotEncoder()\n",
    "checked_out=one.fit_transform(train[\"checked_out\"].values.reshape(-1,1)).toarray()\n",
    "\n",
    "\n",
    "#One-Hot-Encoding year\n",
    "one=OneHotEncoder()\n",
    "year=one.fit_transform(train[\"year\"].values.reshape(-1,1)).toarray()\n",
    "\n",
    "\n",
    "#One-Hot-Encoding month\n",
    "one=OneHotEncoder()\n",
    "month=one.fit_transform(train[\"month\"].values.reshape(-1,1)).toarray()\n",
    "\n"
   ]
  },
  {
   "cell_type": "code",
   "execution_count": 114,
   "metadata": {},
   "outputs": [
    {
     "data": {
      "text/plain": [
       "(5429, 17)"
      ]
     },
     "execution_count": 114,
     "metadata": {},
     "output_type": "execute_result"
    }
   ],
   "source": [
    "device_details.shape"
   ]
  },
  {
   "cell_type": "code",
   "execution_count": 112,
   "metadata": {},
   "outputs": [],
   "source": [
    "#min-max-scalling of session_number\n",
    "\n",
    "mms=MinMaxScaler()\n",
    "session_number=mms.fit_transform(train[\"session_number\"].values.reshape(-1,1))\n",
    "\n",
    "\n",
    "#min-max-scalling of day\n",
    "mms=StandardScaler()\n",
    "day=mms.fit_transform(train[\"day\"].values.reshape(-1,1))"
   ]
  },
  {
   "cell_type": "code",
   "execution_count": 107,
   "metadata": {},
   "outputs": [],
   "source": [
    "# tfidf vectorizer of client_agent\n",
    "tfidf=TfidfVectorizer()\n",
    "client_agent=tfidf.fit_transform(train[\"client_agent\"])\n"
   ]
  },
  {
   "cell_type": "code",
   "execution_count": 135,
   "metadata": {},
   "outputs": [
    {
     "name": "stdout",
     "output_type": "stream",
     "text": [
      "train shape (5429, 200)\n"
     ]
    }
   ],
   "source": [
    "#combining all the columns\n",
    "t=np.hstack((session_number,client_agent.toarray(),device_details,purchased,added_in_cart,checked_out,year,month,day))\n",
    "print(\"train shape\",t.shape)\n"
   ]
  },
  {
   "cell_type": "code",
   "execution_count": 140,
   "metadata": {},
   "outputs": [
    {
     "name": "stdout",
     "output_type": "stream",
     "text": [
      "2.191004033991599\n"
     ]
    }
   ],
   "source": [
    "#svr predicting with best hyperparameters\n",
    "clf =SVR(C=100,gamma=0.01)\n",
    "clf.fit(t,train[\"time_spent\"])\n",
    "pred=clf.predict(t)\n",
    "print(metrics.mean_squared_log_error(train[\"time_spent\"],pred))\n"
   ]
  },
  {
   "cell_type": "code",
   "execution_count": null,
   "metadata": {},
   "outputs": [],
   "source": []
  }
 ],
 "metadata": {
  "kernelspec": {
   "display_name": "Python 3",
   "language": "python",
   "name": "python3"
  },
  "language_info": {
   "codemirror_mode": {
    "name": "ipython",
    "version": 3
   },
   "file_extension": ".py",
   "mimetype": "text/x-python",
   "name": "python",
   "nbconvert_exporter": "python",
   "pygments_lexer": "ipython3",
   "version": "3.8.3"
  }
 },
 "nbformat": 4,
 "nbformat_minor": 4
}
